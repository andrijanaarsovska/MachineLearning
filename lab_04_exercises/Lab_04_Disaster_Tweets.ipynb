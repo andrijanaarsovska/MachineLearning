{
 "cells": [
  {
   "cell_type": "markdown",
   "id": "66ef76cd-e595-4a04-839d-d4b36679baac",
   "metadata": {},
   "source": [
    "# Natural Language Processing with Disaster Tweets"
   ]
  },
  {
   "cell_type": "markdown",
   "id": "b3f2989f",
   "metadata": {},
   "source": [
    "Sami treba da najdeme zadaca/dataset"
   ]
  },
  {
   "cell_type": "code",
   "execution_count": 2,
   "id": "380fe21a-8611-4620-b92c-6f4bcaa329a0",
   "metadata": {},
   "outputs": [],
   "source": [
    "#!pip install tensorflow"
   ]
  },
  {
   "cell_type": "code",
   "execution_count": 3,
   "id": "44cc6216-fe27-43de-9ff6-d13b2e539af4",
   "metadata": {},
   "outputs": [],
   "source": [
    "import pandas as pd\n",
    "from sklearn.model_selection import train_test_split\n",
    "from sklearn.preprocessing import LabelEncoder\n",
    "from collections import Counter\n",
    "from sklearn.feature_extraction.text import TfidfVectorizer \n",
    "from tensorflow.keras.models import Sequential \n",
    "from tensorflow.keras.layers import Dense, Dropout \n",
    "from tensorflow.keras.optimizers import Adam \n",
    "from tensorflow.keras.utils import to_categorical\n",
    "from imblearn.metrics import classification_report_imbalanced\n",
    "import matplotlib.pyplot as plt"
   ]
  },
  {
   "cell_type": "code",
   "execution_count": 4,
   "id": "840e8dc0-84fd-40bc-8fc9-7856ecafef2e",
   "metadata": {},
   "outputs": [
    {
     "data": {
      "text/html": [
       "<div>\n",
       "<style scoped>\n",
       "    .dataframe tbody tr th:only-of-type {\n",
       "        vertical-align: middle;\n",
       "    }\n",
       "\n",
       "    .dataframe tbody tr th {\n",
       "        vertical-align: top;\n",
       "    }\n",
       "\n",
       "    .dataframe thead th {\n",
       "        text-align: right;\n",
       "    }\n",
       "</style>\n",
       "<table border=\"1\" class=\"dataframe\">\n",
       "  <thead>\n",
       "    <tr style=\"text-align: right;\">\n",
       "      <th></th>\n",
       "      <th>keyword</th>\n",
       "      <th>location</th>\n",
       "      <th>text</th>\n",
       "      <th>target</th>\n",
       "    </tr>\n",
       "    <tr>\n",
       "      <th>id</th>\n",
       "      <th></th>\n",
       "      <th></th>\n",
       "      <th></th>\n",
       "      <th></th>\n",
       "    </tr>\n",
       "  </thead>\n",
       "  <tbody>\n",
       "    <tr>\n",
       "      <th>1</th>\n",
       "      <td>NaN</td>\n",
       "      <td>NaN</td>\n",
       "      <td>Our Deeds are the Reason of this #earthquake M...</td>\n",
       "      <td>1</td>\n",
       "    </tr>\n",
       "    <tr>\n",
       "      <th>4</th>\n",
       "      <td>NaN</td>\n",
       "      <td>NaN</td>\n",
       "      <td>Forest fire near La Ronge Sask. Canada</td>\n",
       "      <td>1</td>\n",
       "    </tr>\n",
       "    <tr>\n",
       "      <th>5</th>\n",
       "      <td>NaN</td>\n",
       "      <td>NaN</td>\n",
       "      <td>All residents asked to 'shelter in place' are ...</td>\n",
       "      <td>1</td>\n",
       "    </tr>\n",
       "    <tr>\n",
       "      <th>6</th>\n",
       "      <td>NaN</td>\n",
       "      <td>NaN</td>\n",
       "      <td>13,000 people receive #wildfires evacuation or...</td>\n",
       "      <td>1</td>\n",
       "    </tr>\n",
       "    <tr>\n",
       "      <th>7</th>\n",
       "      <td>NaN</td>\n",
       "      <td>NaN</td>\n",
       "      <td>Just got sent this photo from Ruby #Alaska as ...</td>\n",
       "      <td>1</td>\n",
       "    </tr>\n",
       "  </tbody>\n",
       "</table>\n",
       "</div>"
      ],
      "text/plain": [
       "   keyword location                                               text  target\n",
       "id                                                                            \n",
       "1      NaN      NaN  Our Deeds are the Reason of this #earthquake M...       1\n",
       "4      NaN      NaN             Forest fire near La Ronge Sask. Canada       1\n",
       "5      NaN      NaN  All residents asked to 'shelter in place' are ...       1\n",
       "6      NaN      NaN  13,000 people receive #wildfires evacuation or...       1\n",
       "7      NaN      NaN  Just got sent this photo from Ruby #Alaska as ...       1"
      ]
     },
     "execution_count": 4,
     "metadata": {},
     "output_type": "execute_result"
    }
   ],
   "source": [
    "data_train = pd.read_csv('train.csv', index_col='id')\n",
    "data_train.head()"
   ]
  },
  {
   "cell_type": "code",
   "execution_count": 5,
   "id": "24336a52-0cb6-4d84-bcd2-b4ec6014572a",
   "metadata": {},
   "outputs": [
    {
     "data": {
      "text/plain": [
       "keyword\n",
       "fatalities               45\n",
       "deluge                   42\n",
       "armageddon               42\n",
       "sinking                  41\n",
       "damage                   41\n",
       "                         ..\n",
       "forest%20fire            19\n",
       "epicentre                12\n",
       "threat                   11\n",
       "inundation               10\n",
       "radiation%20emergency     9\n",
       "Name: count, Length: 221, dtype: int64"
      ]
     },
     "execution_count": 5,
     "metadata": {},
     "output_type": "execute_result"
    }
   ],
   "source": [
    "data_train['keyword'].value_counts()"
   ]
  },
  {
   "cell_type": "code",
   "execution_count": 6,
   "id": "37727635-0a94-4b94-8d5e-74566988371f",
   "metadata": {},
   "outputs": [
    {
     "data": {
      "text/plain": [
       "location\n",
       "USA                    104\n",
       "New York                71\n",
       "United States           50\n",
       "London                  45\n",
       "Canada                  29\n",
       "                      ... \n",
       "MontrÌ©al, QuÌ©bec       1\n",
       "Montreal                 1\n",
       "ÌÏT: 6.4682,3.18287      1\n",
       "Live4Heed??              1\n",
       "Lincoln                  1\n",
       "Name: count, Length: 3341, dtype: int64"
      ]
     },
     "execution_count": 6,
     "metadata": {},
     "output_type": "execute_result"
    }
   ],
   "source": [
    "data_train['location'].value_counts()"
   ]
  },
  {
   "cell_type": "code",
   "execution_count": 7,
   "id": "8a6cbb83-5f23-456c-a544-6b400d7d5b4b",
   "metadata": {},
   "outputs": [],
   "source": [
    "data_train = data_train.drop(['location'], axis=1)"
   ]
  },
  {
   "cell_type": "markdown",
   "id": "46ce503c-952d-439b-a929-e5d824331557",
   "metadata": {},
   "source": [
    "Ne ni e potrebno lokaciata"
   ]
  },
  {
   "cell_type": "code",
   "execution_count": 9,
   "id": "78b4591e-d58d-49a9-be1d-b8761637c72a",
   "metadata": {},
   "outputs": [
    {
     "data": {
      "text/plain": [
       "target\n",
       "1    42\n",
       "0    19\n",
       "Name: count, dtype: int64"
      ]
     },
     "execution_count": 9,
     "metadata": {},
     "output_type": "execute_result"
    }
   ],
   "source": [
    "missing_values = data_train[data_train['keyword'].isnull()]['target'].value_counts()\n",
    "missing_values"
   ]
  },
  {
   "cell_type": "code",
   "execution_count": 10,
   "id": "ec7d27fe-a933-4dd3-aa5f-d42fdf93065a",
   "metadata": {},
   "outputs": [
    {
     "data": {
      "text/html": [
       "<div>\n",
       "<style scoped>\n",
       "    .dataframe tbody tr th:only-of-type {\n",
       "        vertical-align: middle;\n",
       "    }\n",
       "\n",
       "    .dataframe tbody tr th {\n",
       "        vertical-align: top;\n",
       "    }\n",
       "\n",
       "    .dataframe thead th {\n",
       "        text-align: right;\n",
       "    }\n",
       "</style>\n",
       "<table border=\"1\" class=\"dataframe\">\n",
       "  <thead>\n",
       "    <tr style=\"text-align: right;\">\n",
       "      <th></th>\n",
       "      <th>keyword</th>\n",
       "      <th>text</th>\n",
       "      <th>target</th>\n",
       "    </tr>\n",
       "    <tr>\n",
       "      <th>id</th>\n",
       "      <th></th>\n",
       "      <th></th>\n",
       "      <th></th>\n",
       "    </tr>\n",
       "  </thead>\n",
       "  <tbody>\n",
       "    <tr>\n",
       "      <th>1</th>\n",
       "      <td>NaN</td>\n",
       "      <td>Our Deeds are the Reason of this #earthquake M...</td>\n",
       "      <td>1</td>\n",
       "    </tr>\n",
       "    <tr>\n",
       "      <th>4</th>\n",
       "      <td>NaN</td>\n",
       "      <td>Forest fire near La Ronge Sask. Canada</td>\n",
       "      <td>1</td>\n",
       "    </tr>\n",
       "    <tr>\n",
       "      <th>5</th>\n",
       "      <td>NaN</td>\n",
       "      <td>All residents asked to 'shelter in place' are ...</td>\n",
       "      <td>1</td>\n",
       "    </tr>\n",
       "    <tr>\n",
       "      <th>6</th>\n",
       "      <td>NaN</td>\n",
       "      <td>13,000 people receive #wildfires evacuation or...</td>\n",
       "      <td>1</td>\n",
       "    </tr>\n",
       "    <tr>\n",
       "      <th>7</th>\n",
       "      <td>NaN</td>\n",
       "      <td>Just got sent this photo from Ruby #Alaska as ...</td>\n",
       "      <td>1</td>\n",
       "    </tr>\n",
       "    <tr>\n",
       "      <th>...</th>\n",
       "      <td>...</td>\n",
       "      <td>...</td>\n",
       "      <td>...</td>\n",
       "    </tr>\n",
       "    <tr>\n",
       "      <th>10869</th>\n",
       "      <td>NaN</td>\n",
       "      <td>Two giant cranes holding a bridge collapse int...</td>\n",
       "      <td>1</td>\n",
       "    </tr>\n",
       "    <tr>\n",
       "      <th>10870</th>\n",
       "      <td>NaN</td>\n",
       "      <td>@aria_ahrary @TheTawniest The out of control w...</td>\n",
       "      <td>1</td>\n",
       "    </tr>\n",
       "    <tr>\n",
       "      <th>10871</th>\n",
       "      <td>NaN</td>\n",
       "      <td>M1.94 [01:04 UTC]?5km S of Volcano Hawaii. htt...</td>\n",
       "      <td>1</td>\n",
       "    </tr>\n",
       "    <tr>\n",
       "      <th>10872</th>\n",
       "      <td>NaN</td>\n",
       "      <td>Police investigating after an e-bike collided ...</td>\n",
       "      <td>1</td>\n",
       "    </tr>\n",
       "    <tr>\n",
       "      <th>10873</th>\n",
       "      <td>NaN</td>\n",
       "      <td>The Latest: More Homes Razed by Northern Calif...</td>\n",
       "      <td>1</td>\n",
       "    </tr>\n",
       "  </tbody>\n",
       "</table>\n",
       "<p>61 rows × 3 columns</p>\n",
       "</div>"
      ],
      "text/plain": [
       "      keyword                                               text  target\n",
       "id                                                                      \n",
       "1         NaN  Our Deeds are the Reason of this #earthquake M...       1\n",
       "4         NaN             Forest fire near La Ronge Sask. Canada       1\n",
       "5         NaN  All residents asked to 'shelter in place' are ...       1\n",
       "6         NaN  13,000 people receive #wildfires evacuation or...       1\n",
       "7         NaN  Just got sent this photo from Ruby #Alaska as ...       1\n",
       "...       ...                                                ...     ...\n",
       "10869     NaN  Two giant cranes holding a bridge collapse int...       1\n",
       "10870     NaN  @aria_ahrary @TheTawniest The out of control w...       1\n",
       "10871     NaN  M1.94 [01:04 UTC]?5km S of Volcano Hawaii. htt...       1\n",
       "10872     NaN  Police investigating after an e-bike collided ...       1\n",
       "10873     NaN  The Latest: More Homes Razed by Northern Calif...       1\n",
       "\n",
       "[61 rows x 3 columns]"
      ]
     },
     "execution_count": 10,
     "metadata": {},
     "output_type": "execute_result"
    }
   ],
   "source": [
    "data_train[data_train['keyword'].isnull()]"
   ]
  },
  {
   "cell_type": "markdown",
   "id": "85e4340c-0b94-400b-b6f1-01d6721f26e8",
   "metadata": {},
   "source": [
    "ke dropnam 61 redovite "
   ]
  },
  {
   "cell_type": "code",
   "execution_count": 12,
   "id": "4c254472-c257-40c6-92a0-db9434343f2c",
   "metadata": {},
   "outputs": [],
   "source": [
    "data_train = data_train.dropna()"
   ]
  },
  {
   "cell_type": "code",
   "execution_count": 13,
   "id": "7b1c2a76-368a-4f77-b1a0-0fca5f94625f",
   "metadata": {},
   "outputs": [
    {
     "data": {
      "text/plain": [
       "(7552, 3)"
      ]
     },
     "execution_count": 13,
     "metadata": {},
     "output_type": "execute_result"
    }
   ],
   "source": [
    "data_train.shape"
   ]
  },
  {
   "cell_type": "code",
   "execution_count": 14,
   "id": "0b7e11be-6cc8-478d-93eb-2013627582c1",
   "metadata": {},
   "outputs": [],
   "source": [
    "enc = LabelEncoder() \n",
    "data_train['keyword'] = enc.fit_transform(data_train['keyword'])"
   ]
  },
  {
   "cell_type": "code",
   "execution_count": 15,
   "id": "eb21d860-e9b2-43fb-a7dc-71e87178dc82",
   "metadata": {},
   "outputs": [],
   "source": [
    "X_train, X_test, y_train, y_test = train_test_split(data_train['text'],  data_train['keyword'], test_size=0.2)"
   ]
  },
  {
   "cell_type": "code",
   "execution_count": 16,
   "id": "82e22212-d2ed-404c-92c5-84af704e3b69",
   "metadata": {},
   "outputs": [],
   "source": [
    "vectorizer = TfidfVectorizer() \n",
    "X_train_tfidf = vectorizer.fit_transform(X_train) \n",
    "X_test_tfidf = vectorizer.transform(X_test)"
   ]
  },
  {
   "cell_type": "code",
   "execution_count": 17,
   "id": "51ecfe7a-8a72-423f-af1c-7c7612d7ad9e",
   "metadata": {},
   "outputs": [],
   "source": [
    "y_train_cat = to_categorical(y_train) \n",
    "y_test_cat = to_categorical(y_test)"
   ]
  },
  {
   "cell_type": "code",
   "execution_count": 18,
   "id": "cb25513a-bdf1-4583-b815-6568d59d1e38",
   "metadata": {},
   "outputs": [
    {
     "name": "stderr",
     "output_type": "stream",
     "text": [
      "C:\\Users\\191045\\AppData\\Roaming\\Python\\Python312\\site-packages\\keras\\src\\layers\\core\\dense.py:87: UserWarning: Do not pass an `input_shape`/`input_dim` argument to a layer. When using Sequential models, prefer using an `Input(shape)` object as the first layer in the model instead.\n",
      "  super().__init__(activity_regularizer=activity_regularizer, **kwargs)\n"
     ]
    }
   ],
   "source": [
    "model = Sequential() \n",
    "model.add(Dense(512, input_dim=X_train_tfidf.shape[1], activation='relu')) \n",
    "model.add(Dropout(0.5)) \n",
    "model.add(Dense(256, activation='relu')) \n",
    "model.add(Dropout(0.5)) \n",
    "model.add(Dense(y_train_cat.shape[1], activation='softmax'))"
   ]
  },
  {
   "cell_type": "code",
   "execution_count": 19,
   "id": "e8d2f626-03da-48cd-98f1-fad9fee0bb07",
   "metadata": {},
   "outputs": [],
   "source": [
    "model.compile(loss='categorical_crossentropy', optimizer=Adam(), metrics=['accuracy'])"
   ]
  },
  {
   "cell_type": "code",
   "execution_count": 20,
   "id": "ee118a83-e5cd-4f6c-91cc-eeb3a89d3cb2",
   "metadata": {},
   "outputs": [
    {
     "name": "stdout",
     "output_type": "stream",
     "text": [
      "Epoch 1/4\n",
      "\u001b[1m189/189\u001b[0m \u001b[32m━━━━━━━━━━━━━━━━━━━━\u001b[0m\u001b[37m\u001b[0m \u001b[1m14s\u001b[0m 69ms/step - accuracy: 0.0181 - loss: 5.3693 - val_accuracy: 0.1966 - val_loss: 5.0339\n",
      "Epoch 2/4\n",
      "\u001b[1m189/189\u001b[0m \u001b[32m━━━━━━━━━━━━━━━━━━━━\u001b[0m\u001b[37m\u001b[0m \u001b[1m13s\u001b[0m 67ms/step - accuracy: 0.2294 - loss: 4.5511 - val_accuracy: 0.6056 - val_loss: 3.3039\n",
      "Epoch 3/4\n",
      "\u001b[1m189/189\u001b[0m \u001b[32m━━━━━━━━━━━━━━━━━━━━\u001b[0m\u001b[37m\u001b[0m \u001b[1m13s\u001b[0m 67ms/step - accuracy: 0.6495 - loss: 2.4078 - val_accuracy: 0.8398 - val_loss: 1.5438\n",
      "Epoch 4/4\n",
      "\u001b[1m189/189\u001b[0m \u001b[32m━━━━━━━━━━━━━━━━━━━━\u001b[0m\u001b[37m\u001b[0m \u001b[1m13s\u001b[0m 67ms/step - accuracy: 0.8918 - loss: 0.8538 - val_accuracy: 0.8769 - val_loss: 0.9116\n"
     ]
    }
   ],
   "source": [
    "history = model.fit(X_train_tfidf, y_train_cat, epochs=4, batch_size=32, validation_data=(X_test_tfidf, y_test_cat))"
   ]
  },
  {
   "cell_type": "code",
   "execution_count": 21,
   "id": "13cd42de-5449-4b52-bcd7-104e0da87ff4",
   "metadata": {},
   "outputs": [
    {
     "name": "stdout",
     "output_type": "stream",
     "text": [
      "\u001b[1m48/48\u001b[0m \u001b[32m━━━━━━━━━━━━━━━━━━━━\u001b[0m\u001b[37m\u001b[0m \u001b[1m0s\u001b[0m 5ms/step - accuracy: 0.8678 - loss: 0.9365\n",
      "Loss: 0.9115697741508484, Accuracy: 0.87690269947052\n"
     ]
    }
   ],
   "source": [
    "loss, accuracy = model.evaluate(X_test_tfidf, y_test_cat)\n",
    "print(f'Loss: {loss}, Accuracy: {accuracy}')"
   ]
  },
  {
   "cell_type": "code",
   "execution_count": 22,
   "id": "80a127c2-8a21-4b61-b623-26784713a641",
   "metadata": {},
   "outputs": [
    {
     "name": "stdout",
     "output_type": "stream",
     "text": [
      "Training class distributions summary: Counter({104: 41, 70: 36, 63: 36, 106: 36, 153: 36, 188: 35, 8: 35, 206: 35, 177: 35, 50: 34, 29: 34, 129: 34, 205: 34, 103: 34, 20: 33, 84: 33, 155: 33, 117: 33, 57: 33, 0: 33, 123: 33, 132: 32, 95: 32, 93: 32, 110: 32, 76: 32, 5: 32, 195: 32, 192: 32, 219: 32, 4: 32, 96: 32, 212: 32, 216: 32, 100: 32, 38: 32, 113: 31, 170: 31, 220: 31, 16: 31, 23: 31, 97: 31, 45: 31, 102: 31, 141: 31, 62: 31, 98: 31, 112: 31, 210: 31, 176: 31, 53: 31, 139: 31, 152: 31, 158: 30, 166: 30, 201: 30, 215: 30, 184: 30, 18: 30, 178: 30, 42: 30, 163: 30, 67: 30, 11: 30, 31: 30, 49: 30, 69: 30, 60: 30, 87: 30, 119: 30, 128: 30, 146: 29, 157: 29, 122: 29, 26: 29, 135: 29, 48: 29, 211: 29, 143: 29, 108: 29, 72: 29, 173: 29, 190: 29, 198: 29, 30: 29, 107: 29, 182: 29, 21: 29, 137: 29, 159: 29, 140: 29, 44: 29, 131: 29, 204: 29, 89: 29, 196: 28, 77: 28, 79: 28, 55: 28, 65: 28, 47: 28, 105: 28, 197: 28, 148: 28, 12: 28, 56: 28, 165: 28, 75: 28, 171: 28, 144: 28, 33: 28, 3: 28, 111: 28, 130: 28, 68: 28, 133: 28, 92: 27, 14: 27, 40: 27, 51: 27, 99: 27, 167: 27, 180: 27, 27: 27, 25: 27, 116: 27, 138: 27, 83: 27, 22: 27, 58: 27, 199: 27, 34: 27, 186: 27, 217: 27, 189: 26, 120: 26, 61: 26, 74: 26, 80: 26, 149: 26, 1: 26, 145: 26, 71: 26, 52: 26, 90: 26, 86: 26, 124: 26, 125: 26, 156: 26, 162: 26, 7: 26, 172: 26, 46: 26, 154: 25, 24: 25, 54: 25, 191: 25, 91: 25, 183: 25, 203: 25, 175: 25, 9: 25, 19: 25, 150: 25, 64: 25, 37: 25, 218: 25, 168: 25, 193: 25, 88: 25, 41: 25, 121: 25, 59: 25, 174: 25, 17: 25, 202: 24, 13: 24, 118: 24, 127: 24, 81: 24, 6: 24, 181: 24, 187: 24, 136: 24, 151: 24, 35: 24, 82: 23, 214: 23, 101: 23, 169: 23, 179: 23, 185: 23, 32: 23, 73: 23, 85: 22, 109: 22, 10: 22, 213: 22, 43: 22, 114: 22, 126: 22, 147: 22, 2: 22, 36: 22, 207: 22, 142: 21, 28: 21, 78: 21, 208: 20, 161: 20, 200: 20, 66: 20, 15: 20, 115: 19, 209: 19, 164: 18, 39: 16, 134: 9, 194: 8, 160: 6, 94: 6})\n",
      "Test class distributions summary: Counter({114: 14, 73: 14, 161: 14, 81: 12, 218: 12, 147: 12, 154: 12, 85: 12, 2: 12, 28: 12, 82: 12, 61: 12, 185: 12, 145: 11, 200: 11, 119: 11, 13: 11, 204: 11, 36: 11, 207: 11, 90: 11, 126: 10, 136: 10, 24: 10, 168: 10, 211: 10, 86: 10, 10: 10, 49: 10, 121: 10, 174: 10, 78: 10, 215: 10, 91: 10, 178: 10, 214: 10, 125: 9, 39: 9, 213: 9, 37: 9, 142: 9, 87: 9, 202: 9, 203: 9, 9: 9, 80: 9, 58: 9, 162: 9, 19: 9, 187: 9, 101: 9, 41: 9, 55: 9, 107: 9, 35: 9, 105: 9, 171: 9, 1: 9, 157: 8, 172: 8, 57: 8, 66: 8, 43: 8, 34: 8, 79: 8, 159: 8, 25: 8, 95: 8, 176: 8, 210: 8, 148: 8, 120: 8, 69: 8, 12: 8, 18: 8, 118: 8, 52: 8, 102: 8, 40: 8, 220: 8, 46: 8, 31: 8, 183: 8, 110: 7, 197: 7, 167: 7, 98: 7, 109: 7, 133: 7, 29: 7, 165: 7, 180: 7, 198: 7, 68: 7, 212: 7, 3: 7, 100: 7, 128: 7, 173: 7, 127: 7, 156: 7, 138: 7, 8: 7, 208: 7, 33: 7, 88: 7, 124: 7, 113: 7, 219: 7, 130: 7, 152: 7, 47: 7, 72: 7, 99: 6, 51: 6, 111: 6, 75: 6, 170: 6, 74: 6, 182: 6, 132: 6, 163: 6, 144: 6, 63: 6, 65: 6, 42: 6, 23: 6, 195: 6, 7: 6, 92: 6, 60: 6, 15: 6, 54: 6, 193: 6, 32: 6, 150: 6, 179: 6, 16: 6, 94: 6, 4: 6, 123: 6, 189: 6, 62: 6, 53: 6, 217: 6, 177: 6, 27: 6, 17: 5, 22: 5, 151: 5, 97: 5, 196: 5, 84: 5, 48: 5, 216: 5, 199: 5, 181: 5, 67: 5, 209: 5, 45: 5, 6: 5, 50: 5, 122: 5, 201: 5, 191: 5, 38: 5, 89: 5, 30: 5, 59: 5, 146: 5, 141: 5, 83: 5, 116: 5, 166: 5, 184: 5, 169: 5, 149: 5, 135: 4, 131: 4, 137: 4, 77: 4, 205: 4, 188: 4, 158: 4, 175: 4, 93: 4, 164: 4, 186: 4, 26: 4, 11: 4, 190: 4, 104: 4, 56: 4, 108: 4, 96: 4, 103: 4, 112: 4, 143: 4, 155: 4, 153: 4, 106: 4, 129: 4, 44: 4, 21: 4, 76: 4, 0: 3, 206: 3, 14: 3, 160: 3, 140: 3, 71: 3, 70: 3, 194: 3, 20: 2, 5: 2, 117: 2, 64: 2, 139: 2, 192: 2, 134: 1})\n"
     ]
    }
   ],
   "source": [
    "print(f\"Training class distributions summary: {Counter(y_train)}\")\n",
    "print(f\"Test class distributions summary: {Counter(y_test)}\")"
   ]
  },
  {
   "cell_type": "code",
   "execution_count": 28,
   "id": "cbbe666c-25ee-4776-bc3c-62ce92cf93ed",
   "metadata": {},
   "outputs": [
    {
     "name": "stdout",
     "output_type": "stream",
     "text": [
      "\u001b[1m48/48\u001b[0m \u001b[32m━━━━━━━━━━━━━━━━━━━━\u001b[0m\u001b[37m\u001b[0m \u001b[1m0s\u001b[0m 4ms/step\n",
      "                   pre       rec       spe        f1       geo       iba       sup\n",
      "\n",
      "          0       0.67      0.67      1.00      0.67      0.82      0.64         3\n",
      "          1       1.00      0.56      1.00      0.71      0.75      0.53         9\n",
      "          2       0.42      0.83      0.99      0.56      0.91      0.81        12\n",
      "          3       0.58      1.00      1.00      0.74      1.00      1.00         7\n",
      "          4       1.00      0.83      1.00      0.91      0.91      0.82         6\n",
      "          5       1.00      1.00      1.00      1.00      1.00      1.00         2\n",
      "          6       1.00      0.80      1.00      0.89      0.89      0.78         5\n",
      "          7       0.86      1.00      1.00      0.92      1.00      1.00         6\n",
      "          8       1.00      1.00      1.00      1.00      1.00      1.00         7\n",
      "          9       0.80      0.44      1.00      0.57      0.67      0.42         9\n",
      "         10       1.00      0.80      1.00      0.89      0.89      0.78        10\n",
      "         11       0.11      0.75      0.98      0.19      0.86      0.72         4\n",
      "         12       0.43      0.75      0.99      0.55      0.86      0.73         8\n",
      "         13       1.00      1.00      1.00      1.00      1.00      1.00        11\n",
      "         14       0.50      1.00      1.00      0.67      1.00      1.00         3\n",
      "         15       1.00      0.67      1.00      0.80      0.82      0.64         6\n",
      "         16       1.00      0.83      1.00      0.91      0.91      0.82         6\n",
      "         17       0.83      1.00      1.00      0.91      1.00      1.00         5\n",
      "         18       0.50      0.50      1.00      0.50      0.71      0.47         8\n",
      "         19       0.88      0.78      1.00      0.82      0.88      0.76         9\n",
      "         20       1.00      1.00      1.00      1.00      1.00      1.00         2\n",
      "         21       1.00      1.00      1.00      1.00      1.00      1.00         4\n",
      "         22       1.00      0.80      1.00      0.89      0.89      0.78         5\n",
      "         23       1.00      0.67      1.00      0.80      0.82      0.64         6\n",
      "         24       0.91      1.00      1.00      0.95      1.00      1.00        10\n",
      "         25       0.80      1.00      1.00      0.89      1.00      1.00         8\n",
      "         26       1.00      1.00      1.00      1.00      1.00      1.00         4\n",
      "         27       1.00      1.00      1.00      1.00      1.00      1.00         6\n",
      "         28       0.92      1.00      1.00      0.96      1.00      1.00        12\n",
      "         29       0.88      1.00      1.00      0.93      1.00      1.00         7\n",
      "         30       0.83      1.00      1.00      0.91      1.00      1.00         5\n",
      "         31       1.00      1.00      1.00      1.00      1.00      1.00         8\n",
      "         32       0.83      0.83      1.00      0.83      0.91      0.82         6\n",
      "         33       0.83      0.71      1.00      0.77      0.84      0.69         7\n",
      "         34       0.46      0.75      1.00      0.57      0.86      0.73         8\n",
      "         35       0.90      1.00      1.00      0.95      1.00      1.00         9\n",
      "         36       1.00      0.82      1.00      0.90      0.90      0.80        11\n",
      "         37       0.83      0.56      1.00      0.67      0.75      0.53         9\n",
      "         38       0.00      0.00      1.00      0.00      0.00      0.00         5\n",
      "         39       1.00      0.89      1.00      0.94      0.94      0.88         9\n",
      "         40       1.00      1.00      1.00      1.00      1.00      1.00         8\n",
      "         41       1.00      1.00      1.00      1.00      1.00      1.00         9\n",
      "         42       1.00      0.83      1.00      0.91      0.91      0.82         6\n",
      "         43       1.00      0.75      1.00      0.86      0.87      0.73         8\n",
      "         44       0.57      1.00      1.00      0.73      1.00      1.00         4\n",
      "         45       0.71      1.00      1.00      0.83      1.00      1.00         5\n",
      "         46       0.88      0.88      1.00      0.88      0.94      0.86         8\n",
      "         47       1.00      1.00      1.00      1.00      1.00      1.00         7\n",
      "         48       1.00      1.00      1.00      1.00      1.00      1.00         5\n",
      "         49       0.83      1.00      1.00      0.91      1.00      1.00        10\n",
      "         50       1.00      1.00      1.00      1.00      1.00      1.00         5\n",
      "         51       1.00      1.00      1.00      1.00      1.00      1.00         6\n",
      "         52       0.89      1.00      1.00      0.94      1.00      1.00         8\n",
      "         53       1.00      1.00      1.00      1.00      1.00      1.00         6\n",
      "         54       1.00      0.67      1.00      0.80      0.82      0.64         6\n",
      "         55       1.00      1.00      1.00      1.00      1.00      1.00         9\n",
      "         56       0.67      0.50      1.00      0.57      0.71      0.47         4\n",
      "         57       0.89      1.00      1.00      0.94      1.00      1.00         8\n",
      "         58       0.89      0.89      1.00      0.89      0.94      0.88         9\n",
      "         59       1.00      0.60      1.00      0.75      0.77      0.58         5\n",
      "         60       0.83      0.83      1.00      0.83      0.91      0.82         6\n",
      "         61       0.91      0.83      1.00      0.87      0.91      0.82        12\n",
      "         62       1.00      1.00      1.00      1.00      1.00      1.00         6\n",
      "         63       1.00      1.00      1.00      1.00      1.00      1.00         6\n",
      "         64       1.00      1.00      1.00      1.00      1.00      1.00         2\n",
      "         65       1.00      1.00      1.00      1.00      1.00      1.00         6\n",
      "         66       1.00      1.00      1.00      1.00      1.00      1.00         8\n",
      "         67       1.00      0.80      1.00      0.89      0.89      0.78         5\n",
      "         68       1.00      1.00      1.00      1.00      1.00      1.00         7\n",
      "         69       1.00      0.75      1.00      0.86      0.87      0.73         8\n",
      "         70       1.00      1.00      1.00      1.00      1.00      1.00         3\n",
      "         71       1.00      1.00      1.00      1.00      1.00      1.00         3\n",
      "         72       1.00      1.00      1.00      1.00      1.00      1.00         7\n",
      "         73       1.00      0.71      1.00      0.83      0.85      0.69        14\n",
      "         74       0.86      1.00      1.00      0.92      1.00      1.00         6\n",
      "         75       0.67      1.00      1.00      0.80      1.00      1.00         6\n",
      "         76       1.00      1.00      1.00      1.00      1.00      1.00         4\n",
      "         77       1.00      1.00      1.00      1.00      1.00      1.00         4\n",
      "         78       1.00      0.70      1.00      0.82      0.84      0.68        10\n",
      "         79       1.00      0.88      1.00      0.93      0.94      0.86         8\n",
      "         80       0.73      0.89      1.00      0.80      0.94      0.88         9\n",
      "         81       1.00      0.92      1.00      0.96      0.96      0.91        12\n",
      "         82       1.00      0.92      1.00      0.96      0.96      0.91        12\n",
      "         83       1.00      1.00      1.00      1.00      1.00      1.00         5\n",
      "         84       1.00      1.00      1.00      1.00      1.00      1.00         5\n",
      "         85       1.00      0.92      1.00      0.96      0.96      0.91        12\n",
      "         86       1.00      0.90      1.00      0.95      0.95      0.89        10\n",
      "         87       1.00      0.78      1.00      0.88      0.88      0.76         9\n",
      "         88       1.00      0.86      1.00      0.92      0.93      0.84         7\n",
      "         89       1.00      1.00      1.00      1.00      1.00      1.00         5\n",
      "         90       1.00      0.36      1.00      0.53      0.60      0.34        11\n",
      "         91       0.91      1.00      1.00      0.95      1.00      1.00        10\n",
      "         92       0.43      1.00      0.99      0.60      1.00      1.00         6\n",
      "         93       1.00      1.00      1.00      1.00      1.00      1.00         4\n",
      "         94       1.00      0.17      1.00      0.29      0.41      0.15         6\n",
      "         95       0.88      0.88      1.00      0.88      0.94      0.86         8\n",
      "         96       1.00      0.75      1.00      0.86      0.87      0.73         4\n",
      "         97       1.00      1.00      1.00      1.00      1.00      1.00         5\n",
      "         98       1.00      1.00      1.00      1.00      1.00      1.00         7\n",
      "         99       1.00      1.00      1.00      1.00      1.00      1.00         6\n",
      "        100       1.00      1.00      1.00      1.00      1.00      1.00         7\n",
      "        101       0.82      1.00      1.00      0.90      1.00      1.00         9\n",
      "        102       1.00      1.00      1.00      1.00      1.00      1.00         8\n",
      "        103       1.00      1.00      1.00      1.00      1.00      1.00         4\n",
      "        104       1.00      0.75      1.00      0.86      0.87      0.73         4\n",
      "        105       1.00      0.89      1.00      0.94      0.94      0.88         9\n",
      "        106       0.67      1.00      1.00      0.80      1.00      1.00         4\n",
      "        107       0.67      0.89      1.00      0.76      0.94      0.88         9\n",
      "        108       1.00      1.00      1.00      1.00      1.00      1.00         4\n",
      "        109       1.00      1.00      1.00      1.00      1.00      1.00         7\n",
      "        110       1.00      0.71      1.00      0.83      0.85      0.69         7\n",
      "        111       1.00      1.00      1.00      1.00      1.00      1.00         6\n",
      "        112       0.75      0.75      1.00      0.75      0.87      0.73         4\n",
      "        113       0.60      0.86      1.00      0.71      0.92      0.84         7\n",
      "        114       0.85      0.79      1.00      0.81      0.89      0.77        14\n",
      "        116       1.00      1.00      1.00      1.00      1.00      1.00         5\n",
      "        117       1.00      1.00      1.00      1.00      1.00      1.00         2\n",
      "        118       0.75      0.75      1.00      0.75      0.87      0.73         8\n",
      "        119       1.00      1.00      1.00      1.00      1.00      1.00        11\n",
      "        120       1.00      0.88      1.00      0.93      0.94      0.86         8\n",
      "        121       1.00      1.00      1.00      1.00      1.00      1.00        10\n",
      "        122       1.00      1.00      1.00      1.00      1.00      1.00         5\n",
      "        123       0.67      1.00      1.00      0.80      1.00      1.00         6\n",
      "        124       0.88      1.00      1.00      0.93      1.00      1.00         7\n",
      "        125       1.00      1.00      1.00      1.00      1.00      1.00         9\n",
      "        126       1.00      1.00      1.00      1.00      1.00      1.00        10\n",
      "        127       1.00      0.86      1.00      0.92      0.93      0.84         7\n",
      "        128       1.00      1.00      1.00      1.00      1.00      1.00         7\n",
      "        129       0.50      1.00      1.00      0.67      1.00      1.00         4\n",
      "        130       1.00      1.00      1.00      1.00      1.00      1.00         7\n",
      "        131       0.75      0.75      1.00      0.75      0.87      0.73         4\n",
      "        132       1.00      0.83      1.00      0.91      0.91      0.82         6\n",
      "        133       1.00      1.00      1.00      1.00      1.00      1.00         7\n",
      "        134       0.00      0.00      1.00      0.00      0.00      0.00         1\n",
      "        135       0.75      0.75      1.00      0.75      0.87      0.73         4\n",
      "        136       0.91      1.00      1.00      0.95      1.00      1.00        10\n",
      "        137       0.80      1.00      1.00      0.89      1.00      1.00         4\n",
      "        138       1.00      1.00      1.00      1.00      1.00      1.00         7\n",
      "        139       0.67      1.00      1.00      0.80      1.00      1.00         2\n",
      "        140       0.75      1.00      1.00      0.86      1.00      1.00         3\n",
      "        141       1.00      0.80      1.00      0.89      0.89      0.78         5\n",
      "        142       1.00      0.67      1.00      0.80      0.82      0.64         9\n",
      "        143       1.00      1.00      1.00      1.00      1.00      1.00         4\n",
      "        144       0.42      0.83      1.00      0.56      0.91      0.82         6\n",
      "        145       1.00      0.91      1.00      0.95      0.95      0.90        11\n",
      "        146       0.83      1.00      1.00      0.91      1.00      1.00         5\n",
      "        147       1.00      0.75      1.00      0.86      0.87      0.73        12\n",
      "        148       1.00      1.00      1.00      1.00      1.00      1.00         8\n",
      "        149       1.00      1.00      1.00      1.00      1.00      1.00         5\n",
      "        150       1.00      1.00      1.00      1.00      1.00      1.00         6\n",
      "        151       1.00      1.00      1.00      1.00      1.00      1.00         5\n",
      "        152       1.00      1.00      1.00      1.00      1.00      1.00         7\n",
      "        153       1.00      1.00      1.00      1.00      1.00      1.00         4\n",
      "        154       1.00      0.92      1.00      0.96      0.96      0.91        12\n",
      "        155       0.80      1.00      1.00      0.89      1.00      1.00         4\n",
      "        156       1.00      1.00      1.00      1.00      1.00      1.00         7\n",
      "        157       0.70      0.88      1.00      0.78      0.93      0.86         8\n",
      "        158       1.00      1.00      1.00      1.00      1.00      1.00         4\n",
      "        159       1.00      1.00      1.00      1.00      1.00      1.00         8\n",
      "        160       0.00      0.00      1.00      0.00      0.00      0.00         3\n",
      "        161       1.00      0.79      1.00      0.88      0.89      0.77        14\n",
      "        162       0.89      0.89      1.00      0.89      0.94      0.88         9\n",
      "        163       1.00      0.83      1.00      0.91      0.91      0.82         6\n",
      "        164       1.00      0.75      1.00      0.86      0.87      0.73         4\n",
      "        165       0.88      1.00      1.00      0.93      1.00      1.00         7\n",
      "        166       1.00      0.60      1.00      0.75      0.77      0.58         5\n",
      "        167       0.86      0.86      1.00      0.86      0.93      0.84         7\n",
      "        168       1.00      1.00      1.00      1.00      1.00      1.00        10\n",
      "        169       0.83      1.00      1.00      0.91      1.00      1.00         5\n",
      "        170       1.00      1.00      1.00      1.00      1.00      1.00         6\n",
      "        171       1.00      1.00      1.00      1.00      1.00      1.00         9\n",
      "        172       1.00      1.00      1.00      1.00      1.00      1.00         8\n",
      "        173       1.00      1.00      1.00      1.00      1.00      1.00         7\n",
      "        174       1.00      1.00      1.00      1.00      1.00      1.00        10\n",
      "        175       0.80      1.00      1.00      0.89      1.00      1.00         4\n",
      "        176       1.00      0.88      1.00      0.93      0.94      0.86         8\n",
      "        177       0.86      1.00      1.00      0.92      1.00      1.00         6\n",
      "        178       0.71      0.50      1.00      0.59      0.71      0.47        10\n",
      "        179       0.86      1.00      1.00      0.92      1.00      1.00         6\n",
      "        180       0.78      1.00      1.00      0.88      1.00      1.00         7\n",
      "        181       1.00      1.00      1.00      1.00      1.00      1.00         5\n",
      "        182       0.75      1.00      1.00      0.86      1.00      1.00         6\n",
      "        183       1.00      0.75      1.00      0.86      0.87      0.73         8\n",
      "        184       1.00      1.00      1.00      1.00      1.00      1.00         5\n",
      "        185       1.00      0.67      1.00      0.80      0.82      0.64        12\n",
      "        186       0.80      1.00      1.00      0.89      1.00      1.00         4\n",
      "        187       0.75      1.00      1.00      0.86      1.00      1.00         9\n",
      "        188       1.00      1.00      1.00      1.00      1.00      1.00         4\n",
      "        189       1.00      1.00      1.00      1.00      1.00      1.00         6\n",
      "        190       1.00      1.00      1.00      1.00      1.00      1.00         4\n",
      "        191       1.00      1.00      1.00      1.00      1.00      1.00         5\n",
      "        192       0.67      1.00      1.00      0.80      1.00      1.00         2\n",
      "        193       1.00      0.67      1.00      0.80      0.82      0.64         6\n",
      "        194       0.00      0.00      1.00      0.00      0.00      0.00         3\n",
      "        195       1.00      1.00      1.00      1.00      1.00      1.00         6\n",
      "        196       0.80      0.80      1.00      0.80      0.89      0.78         5\n",
      "        197       0.83      0.71      1.00      0.77      0.84      0.69         7\n",
      "        198       1.00      0.86      1.00      0.92      0.93      0.84         7\n",
      "        199       0.80      0.80      1.00      0.80      0.89      0.78         5\n",
      "        200       0.88      0.64      1.00      0.74      0.80      0.61        11\n",
      "        201       1.00      1.00      1.00      1.00      1.00      1.00         5\n",
      "        202       0.90      1.00      1.00      0.95      1.00      1.00         9\n",
      "        203       1.00      0.56      1.00      0.71      0.75      0.53         9\n",
      "        204       0.90      0.82      1.00      0.86      0.90      0.80        11\n",
      "        205       0.67      1.00      1.00      0.80      1.00      1.00         4\n",
      "        206       0.75      1.00      1.00      0.86      1.00      1.00         3\n",
      "        207       1.00      0.82      1.00      0.90      0.90      0.80        11\n",
      "        208       1.00      1.00      1.00      1.00      1.00      1.00         7\n",
      "        209       0.80      0.80      1.00      0.80      0.89      0.78         5\n",
      "        210       1.00      0.75      1.00      0.86      0.87      0.73         8\n",
      "        211       0.86      0.60      1.00      0.71      0.77      0.58        10\n",
      "        212       1.00      0.86      1.00      0.92      0.93      0.84         7\n",
      "        213       1.00      0.89      1.00      0.94      0.94      0.88         9\n",
      "        214       1.00      0.60      1.00      0.75      0.77      0.58        10\n",
      "        215       1.00      0.80      1.00      0.89      0.89      0.78        10\n",
      "        216       1.00      0.80      1.00      0.89      0.89      0.78         5\n",
      "        217       1.00      1.00      1.00      1.00      1.00      1.00         6\n",
      "        218       0.92      1.00      1.00      0.96      1.00      1.00        12\n",
      "        219       1.00      1.00      1.00      1.00      1.00      1.00         7\n",
      "        220       1.00      1.00      1.00      1.00      1.00      1.00         8\n",
      "\n",
      "avg / total       0.91      0.88      1.00      0.88      0.93      0.87      1511\n",
      "\n"
     ]
    },
    {
     "name": "stderr",
     "output_type": "stream",
     "text": [
      "C:\\ProgramData\\anaconda3\\Lib\\site-packages\\sklearn\\metrics\\_classification.py:1509: UndefinedMetricWarning: Precision is ill-defined and being set to 0.0 in labels with no predicted samples. Use `zero_division` parameter to control this behavior.\n",
      "  _warn_prf(average, modifier, f\"{metric.capitalize()} is\", len(result))\n"
     ]
    }
   ],
   "source": [
    "y_pred =model.predict(X_test_tfidf) \n",
    "y_pred_classes = y_pred.argmax(axis=-1) \n",
    "print(classification_report_imbalanced(y_test, y_pred_classes))"
   ]
  },
  {
   "cell_type": "code",
   "execution_count": 26,
   "id": "ecdc30ae-f46f-4749-9131-7f6144724768",
   "metadata": {},
   "outputs": [
    {
     "data": {
      "image/png": "[encoded data removed]",
      "text/plain": [
       "<Figure size 1200x400 with 1 Axes>"
      ]
     },
     "metadata": {},
     "output_type": "display_data"
    }
   ],
   "source": [
    "plt.figure(figsize=(12, 4)) \n",
    "plt.subplot(1, 2, 1) \n",
    "plt.plot(history.history['accuracy'], label='Training Accuracy') \n",
    "plt.plot(history.history['val_accuracy'], label='Validation Accuracy') \n",
    "plt.title('Model Accuracy') \n",
    "plt.xlabel('Epoch') \n",
    "plt.ylabel('Accuracy') \n",
    "plt.legend()\n",
    "plt.show()"
   ]
  }
 ],
 "metadata": {
  "kernelspec": {
   "display_name": "Python 3",
   "language": "python",
   "name": "python3"
  },
  "language_info": {
   "codemirror_mode": {
    "name": "ipython",
    "version": 3
   },
   "file_extension": ".py",
   "mimetype": "text/x-python",
   "name": "python",
   "nbconvert_exporter": "python",
   "pygments_lexer": "ipython3",
   "version": "3.12.0"
  }
 },
 "nbformat": 4,
 "nbformat_minor": 5
}
