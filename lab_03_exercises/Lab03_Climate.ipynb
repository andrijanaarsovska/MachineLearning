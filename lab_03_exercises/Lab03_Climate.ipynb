{
 "cells": [
  {
   "cell_type": "markdown",
   "metadata": {
    "id": "rODb9vHvIEbp"
   },
   "source": [
    "# Requirements"
   ]
  },
  {
   "cell_type": "code",
   "execution_count": 2,
   "metadata": {
    "id": "U4KmHBd2cdx9"
   },
   "outputs": [],
   "source": [
    "import matplotlib.pyplot as plt\n",
    "import seaborn as sns\n",
    "from sklearn.model_selection import train_test_split\n",
    "from sklearn.preprocessing import MinMaxScaler\n",
    "from sklearn.metrics import classification_report, confusion_matrix, r2_score\n",
    "from xgboost import XGBClassifier\n",
    "import pandas as pd\n",
    "from keras.models import Sequential\n",
    "from keras.layers import Dense, Input, Dropout"
   ]
  },
  {
   "cell_type": "markdown",
   "metadata": {
    "id": "KNMMoUiUIW3L"
   },
   "source": [
    "# Laboratory Exercise - Run Mode (8 points)"
   ]
  },
  {
   "cell_type": "markdown",
   "metadata": {
    "id": "_rAh_91OIjeS"
   },
   "source": [
    "## Introduction\n",
    "In this laboratory assignment, the focus is on time series forecasting, specifically targeting the prediction of the current **mean temperature** in the city of Delhi. Your task involves employing bagging and boosting methods to forecast the **mean temperature**. To accomplish this use data from the preceding three days, consisting of **mean temperature**, **humidity**, **wind speed**, and **mean pressure**.\n",
    "\n",
    "**Note: You are required to perform this laboratory assignment on your local machine.**"
   ]
  },
  {
   "cell_type": "markdown",
   "metadata": {
    "id": "zBYI-EypaWom"
   },
   "source": [
    "## The Climate Dataset"
   ]
  },
  {
   "cell_type": "markdown",
   "metadata": {
    "id": "IDW_23TIK6iv"
   },
   "source": [
    "## Downloading the Climate Dataset"
   ]
  },
  {
   "cell_type": "markdown",
   "metadata": {
    "id": "iAtPoYzAZo1v"
   },
   "source": [
    "## Exploring the Climate Dataset\n",
    "This dataset consists of daily weather records for the city of Delhi spanning a period of 4 years (from 2013 to 2017). The dataset includes the following attributes:\n",
    "\n",
    "- date - date in the format YYYY-MM-DD,\n",
    "- meantemp - mean temperature averaged from multiple 3-hour intervals in a day,\n",
    "- humidity - humidity value for the day (measured in grams of water vapor per cubic meter volume of air),\n",
    "- wind_speed - wind speed measured in kilometers per hour, and\n",
    "- meanpressure - pressure reading of the weather (measured in atm).\n",
    "\n",
    "*Note: The dataset is complete, with no missing values in any of its entries.*"
   ]
  },
  {
   "cell_type": "markdown",
   "metadata": {
    "id": "DCm1qm1mZwMr"
   },
   "source": [
    "Load the dataset into a `pandas` data frame."
   ]
  },
  {
   "cell_type": "code",
   "execution_count": 19,
   "metadata": {
    "id": "KMOn4fgcZn8s"
   },
   "outputs": [],
   "source": [
    "data['date'] = pd.to_datetime(data['date'])"
   ]
  },
  {
   "cell_type": "code",
   "execution_count": 18,
   "metadata": {
    "id": "KMOn4fgcZn8s"
   },
   "outputs": [
    {
     "data": {
      "text/html": [
       "<div>\n",
       "<style scoped>\n",
       "    .dataframe tbody tr th:only-of-type {\n",
       "        vertical-align: middle;\n",
       "    }\n",
       "\n",
       "    .dataframe tbody tr th {\n",
       "        vertical-align: top;\n",
       "    }\n",
       "\n",
       "    .dataframe thead th {\n",
       "        text-align: right;\n",
       "    }\n",
       "</style>\n",
       "<table border=\"1\" class=\"dataframe\">\n",
       "  <thead>\n",
       "    <tr style=\"text-align: right;\">\n",
       "      <th></th>\n",
       "      <th>date</th>\n",
       "      <th>meantemp</th>\n",
       "      <th>humidity</th>\n",
       "      <th>wind_speed</th>\n",
       "      <th>meanpressure</th>\n",
       "    </tr>\n",
       "  </thead>\n",
       "  <tbody>\n",
       "    <tr>\n",
       "      <th>0</th>\n",
       "      <td>2013-01-01</td>\n",
       "      <td>10.000000</td>\n",
       "      <td>84.500000</td>\n",
       "      <td>0.000000</td>\n",
       "      <td>1015.666667</td>\n",
       "    </tr>\n",
       "    <tr>\n",
       "      <th>1</th>\n",
       "      <td>2013-01-02</td>\n",
       "      <td>7.400000</td>\n",
       "      <td>92.000000</td>\n",
       "      <td>2.980000</td>\n",
       "      <td>1017.800000</td>\n",
       "    </tr>\n",
       "    <tr>\n",
       "      <th>2</th>\n",
       "      <td>2013-01-03</td>\n",
       "      <td>7.166667</td>\n",
       "      <td>87.000000</td>\n",
       "      <td>4.633333</td>\n",
       "      <td>1018.666667</td>\n",
       "    </tr>\n",
       "    <tr>\n",
       "      <th>3</th>\n",
       "      <td>2013-01-04</td>\n",
       "      <td>8.666667</td>\n",
       "      <td>71.333333</td>\n",
       "      <td>1.233333</td>\n",
       "      <td>1017.166667</td>\n",
       "    </tr>\n",
       "    <tr>\n",
       "      <th>4</th>\n",
       "      <td>2013-01-05</td>\n",
       "      <td>6.000000</td>\n",
       "      <td>86.833333</td>\n",
       "      <td>3.700000</td>\n",
       "      <td>1016.500000</td>\n",
       "    </tr>\n",
       "    <tr>\n",
       "      <th>...</th>\n",
       "      <td>...</td>\n",
       "      <td>...</td>\n",
       "      <td>...</td>\n",
       "      <td>...</td>\n",
       "      <td>...</td>\n",
       "    </tr>\n",
       "    <tr>\n",
       "      <th>1457</th>\n",
       "      <td>2016-12-28</td>\n",
       "      <td>17.217391</td>\n",
       "      <td>68.043478</td>\n",
       "      <td>3.547826</td>\n",
       "      <td>1015.565217</td>\n",
       "    </tr>\n",
       "    <tr>\n",
       "      <th>1458</th>\n",
       "      <td>2016-12-29</td>\n",
       "      <td>15.238095</td>\n",
       "      <td>87.857143</td>\n",
       "      <td>6.000000</td>\n",
       "      <td>1016.904762</td>\n",
       "    </tr>\n",
       "    <tr>\n",
       "      <th>1459</th>\n",
       "      <td>2016-12-30</td>\n",
       "      <td>14.095238</td>\n",
       "      <td>89.666667</td>\n",
       "      <td>6.266667</td>\n",
       "      <td>1017.904762</td>\n",
       "    </tr>\n",
       "    <tr>\n",
       "      <th>1460</th>\n",
       "      <td>2016-12-31</td>\n",
       "      <td>15.052632</td>\n",
       "      <td>87.000000</td>\n",
       "      <td>7.325000</td>\n",
       "      <td>1016.100000</td>\n",
       "    </tr>\n",
       "    <tr>\n",
       "      <th>1461</th>\n",
       "      <td>2017-01-01</td>\n",
       "      <td>10.000000</td>\n",
       "      <td>100.000000</td>\n",
       "      <td>0.000000</td>\n",
       "      <td>1016.000000</td>\n",
       "    </tr>\n",
       "  </tbody>\n",
       "</table>\n",
       "<p>1462 rows × 5 columns</p>\n",
       "</div>"
      ],
      "text/plain": [
       "            date   meantemp    humidity  wind_speed  meanpressure\n",
       "0     2013-01-01  10.000000   84.500000    0.000000   1015.666667\n",
       "1     2013-01-02   7.400000   92.000000    2.980000   1017.800000\n",
       "2     2013-01-03   7.166667   87.000000    4.633333   1018.666667\n",
       "3     2013-01-04   8.666667   71.333333    1.233333   1017.166667\n",
       "4     2013-01-05   6.000000   86.833333    3.700000   1016.500000\n",
       "...          ...        ...         ...         ...           ...\n",
       "1457  2016-12-28  17.217391   68.043478    3.547826   1015.565217\n",
       "1458  2016-12-29  15.238095   87.857143    6.000000   1016.904762\n",
       "1459  2016-12-30  14.095238   89.666667    6.266667   1017.904762\n",
       "1460  2016-12-31  15.052632   87.000000    7.325000   1016.100000\n",
       "1461  2017-01-01  10.000000  100.000000    0.000000   1016.000000\n",
       "\n",
       "[1462 rows x 5 columns]"
      ]
     },
     "execution_count": 18,
     "metadata": {},
     "output_type": "execute_result"
    }
   ],
   "source": [
    "data "
   ]
  },
  {
   "cell_type": "code",
   "execution_count": 17,
   "metadata": {
    "id": "KMOn4fgcZn8s"
   },
   "outputs": [],
   "source": [
    "data = pd.read_csv(\"./data/climate.csv\")"
   ]
  },
  {
   "cell_type": "markdown",
   "metadata": {
    "id": "5slwyyhCKRo9"
   },
   "source": [
    "Explore the dataset using visualizations of your choice."
   ]
  },
  {
   "cell_type": "code",
   "execution_count": 21,
   "metadata": {
    "id": "DFY6TKhGKOY4"
   },
   "outputs": [
    {
     "data": {
      "text/html": [
       "<div>\n",
       "<style scoped>\n",
       "    .dataframe tbody tr th:only-of-type {\n",
       "        vertical-align: middle;\n",
       "    }\n",
       "\n",
       "    .dataframe tbody tr th {\n",
       "        vertical-align: top;\n",
       "    }\n",
       "\n",
       "    .dataframe thead th {\n",
       "        text-align: right;\n",
       "    }\n",
       "</style>\n",
       "<table border=\"1\" class=\"dataframe\">\n",
       "  <thead>\n",
       "    <tr style=\"text-align: right;\">\n",
       "      <th></th>\n",
       "      <th>meantemp</th>\n",
       "      <th>humidity</th>\n",
       "      <th>wind_speed</th>\n",
       "      <th>meanpressure</th>\n",
       "    </tr>\n",
       "    <tr>\n",
       "      <th>date</th>\n",
       "      <th></th>\n",
       "      <th></th>\n",
       "      <th></th>\n",
       "      <th></th>\n",
       "    </tr>\n",
       "  </thead>\n",
       "  <tbody>\n",
       "    <tr>\n",
       "      <th>2013-01-01</th>\n",
       "      <td>10.000000</td>\n",
       "      <td>84.500000</td>\n",
       "      <td>0.000000</td>\n",
       "      <td>1015.666667</td>\n",
       "    </tr>\n",
       "    <tr>\n",
       "      <th>2013-01-02</th>\n",
       "      <td>7.400000</td>\n",
       "      <td>92.000000</td>\n",
       "      <td>2.980000</td>\n",
       "      <td>1017.800000</td>\n",
       "    </tr>\n",
       "    <tr>\n",
       "      <th>2013-01-03</th>\n",
       "      <td>7.166667</td>\n",
       "      <td>87.000000</td>\n",
       "      <td>4.633333</td>\n",
       "      <td>1018.666667</td>\n",
       "    </tr>\n",
       "    <tr>\n",
       "      <th>2013-01-04</th>\n",
       "      <td>8.666667</td>\n",
       "      <td>71.333333</td>\n",
       "      <td>1.233333</td>\n",
       "      <td>1017.166667</td>\n",
       "    </tr>\n",
       "    <tr>\n",
       "      <th>2013-01-05</th>\n",
       "      <td>6.000000</td>\n",
       "      <td>86.833333</td>\n",
       "      <td>3.700000</td>\n",
       "      <td>1016.500000</td>\n",
       "    </tr>\n",
       "    <tr>\n",
       "      <th>...</th>\n",
       "      <td>...</td>\n",
       "      <td>...</td>\n",
       "      <td>...</td>\n",
       "      <td>...</td>\n",
       "    </tr>\n",
       "    <tr>\n",
       "      <th>2016-12-28</th>\n",
       "      <td>17.217391</td>\n",
       "      <td>68.043478</td>\n",
       "      <td>3.547826</td>\n",
       "      <td>1015.565217</td>\n",
       "    </tr>\n",
       "    <tr>\n",
       "      <th>2016-12-29</th>\n",
       "      <td>15.238095</td>\n",
       "      <td>87.857143</td>\n",
       "      <td>6.000000</td>\n",
       "      <td>1016.904762</td>\n",
       "    </tr>\n",
       "    <tr>\n",
       "      <th>2016-12-30</th>\n",
       "      <td>14.095238</td>\n",
       "      <td>89.666667</td>\n",
       "      <td>6.266667</td>\n",
       "      <td>1017.904762</td>\n",
       "    </tr>\n",
       "    <tr>\n",
       "      <th>2016-12-31</th>\n",
       "      <td>15.052632</td>\n",
       "      <td>87.000000</td>\n",
       "      <td>7.325000</td>\n",
       "      <td>1016.100000</td>\n",
       "    </tr>\n",
       "    <tr>\n",
       "      <th>2017-01-01</th>\n",
       "      <td>10.000000</td>\n",
       "      <td>100.000000</td>\n",
       "      <td>0.000000</td>\n",
       "      <td>1016.000000</td>\n",
       "    </tr>\n",
       "  </tbody>\n",
       "</table>\n",
       "<p>1462 rows × 4 columns</p>\n",
       "</div>"
      ],
      "text/plain": [
       "             meantemp    humidity  wind_speed  meanpressure\n",
       "date                                                       \n",
       "2013-01-01  10.000000   84.500000    0.000000   1015.666667\n",
       "2013-01-02   7.400000   92.000000    2.980000   1017.800000\n",
       "2013-01-03   7.166667   87.000000    4.633333   1018.666667\n",
       "2013-01-04   8.666667   71.333333    1.233333   1017.166667\n",
       "2013-01-05   6.000000   86.833333    3.700000   1016.500000\n",
       "...               ...         ...         ...           ...\n",
       "2016-12-28  17.217391   68.043478    3.547826   1015.565217\n",
       "2016-12-29  15.238095   87.857143    6.000000   1016.904762\n",
       "2016-12-30  14.095238   89.666667    6.266667   1017.904762\n",
       "2016-12-31  15.052632   87.000000    7.325000   1016.100000\n",
       "2017-01-01  10.000000  100.000000    0.000000   1016.000000\n",
       "\n",
       "[1462 rows x 4 columns]"
      ]
     },
     "execution_count": 21,
     "metadata": {},
     "output_type": "execute_result"
    }
   ],
   "source": [
    "data.set_index('date', inplace=True)\n",
    "data"
   ]
  },
  {
   "cell_type": "code",
   "execution_count": 20,
   "metadata": {
    "id": "DFY6TKhGKOY4"
   },
   "outputs": [
    {
     "data": {
      "text/plain": [
       "<Axes: >"
      ]
     },
     "execution_count": 20,
     "metadata": {},
     "output_type": "execute_result"
    },
    {
     "data": {
      "image/png": "[encoded data removed]",
      "text/plain": [
       "<Figure size 640x480 with 2 Axes>"
      ]
     },
     "metadata": {},
     "output_type": "display_data"
    }
   ],
   "source": [
    "sns.heatmap(data.corr(), annot=True, linewidths=2)\n",
    "# meantemp e target kolona"
   ]
  },
  {
   "cell_type": "markdown",
   "metadata": {
    "id": "hZceBEFuiGpI"
   },
   "source": [
    "# Feauture Extraction\n",
    "Apply a lag of one, two, and three days to each feature, creating a set of features representing the meteorological conditions from the previous three days. To maintain dataset integrity, eliminate any resulting missing values at the beginning of the dataset.\n",
    "\n",
    "Hint: Use `df['column_name'].shift(period)`. Check the documentation at https://pandas.pydata.org/docs/reference/api/pandas.DataFrame.shift.html."
   ]
  },
  {
   "cell_type": "code",
   "execution_count": 22,
   "metadata": {
    "id": "qHwGg9ieiFL1"
   },
   "outputs": [],
   "source": [
    "features = ['meantemp', 'humidity', 'wind_speed', 'meanpressure']\n",
    "\n",
    "for feature in features:\n",
    "    for lag in range(1,4):\n",
    "        data[f'{feature}_lag{lag}'] = data[feature].shift(lag)\n"
   ]
  },
  {
   "cell_type": "code",
   "execution_count": 25,
   "metadata": {
    "id": "qHwGg9ieiFL1"
   },
   "outputs": [
    {
     "data": {
      "text/html": [
       "<div>\n",
       "<style scoped>\n",
       "    .dataframe tbody tr th:only-of-type {\n",
       "        vertical-align: middle;\n",
       "    }\n",
       "\n",
       "    .dataframe tbody tr th {\n",
       "        vertical-align: top;\n",
       "    }\n",
       "\n",
       "    .dataframe thead th {\n",
       "        text-align: right;\n",
       "    }\n",
       "</style>\n",
       "<table border=\"1\" class=\"dataframe\">\n",
       "  <thead>\n",
       "    <tr style=\"text-align: right;\">\n",
       "      <th></th>\n",
       "      <th>meantemp</th>\n",
       "      <th>humidity</th>\n",
       "      <th>wind_speed</th>\n",
       "      <th>meanpressure</th>\n",
       "      <th>meantemp_lag1</th>\n",
       "      <th>meantemp_lag2</th>\n",
       "      <th>meantemp_lag3</th>\n",
       "      <th>humidity_lag1</th>\n",
       "      <th>humidity_lag2</th>\n",
       "      <th>humidity_lag3</th>\n",
       "      <th>wind_speed_lag1</th>\n",
       "      <th>wind_speed_lag2</th>\n",
       "      <th>wind_speed_lag3</th>\n",
       "      <th>meanpressure_lag1</th>\n",
       "      <th>meanpressure_lag2</th>\n",
       "      <th>meanpressure_lag3</th>\n",
       "    </tr>\n",
       "    <tr>\n",
       "      <th>date</th>\n",
       "      <th></th>\n",
       "      <th></th>\n",
       "      <th></th>\n",
       "      <th></th>\n",
       "      <th></th>\n",
       "      <th></th>\n",
       "      <th></th>\n",
       "      <th></th>\n",
       "      <th></th>\n",
       "      <th></th>\n",
       "      <th></th>\n",
       "      <th></th>\n",
       "      <th></th>\n",
       "      <th></th>\n",
       "      <th></th>\n",
       "      <th></th>\n",
       "    </tr>\n",
       "  </thead>\n",
       "  <tbody>\n",
       "    <tr>\n",
       "      <th>2013-01-04</th>\n",
       "      <td>8.666667</td>\n",
       "      <td>71.333333</td>\n",
       "      <td>1.233333</td>\n",
       "      <td>1017.166667</td>\n",
       "      <td>7.166667</td>\n",
       "      <td>7.400000</td>\n",
       "      <td>10.000000</td>\n",
       "      <td>87.000000</td>\n",
       "      <td>92.000000</td>\n",
       "      <td>84.500000</td>\n",
       "      <td>4.633333</td>\n",
       "      <td>2.980000</td>\n",
       "      <td>0.000000</td>\n",
       "      <td>1018.666667</td>\n",
       "      <td>1017.800000</td>\n",
       "      <td>1015.666667</td>\n",
       "    </tr>\n",
       "    <tr>\n",
       "      <th>2013-01-05</th>\n",
       "      <td>6.000000</td>\n",
       "      <td>86.833333</td>\n",
       "      <td>3.700000</td>\n",
       "      <td>1016.500000</td>\n",
       "      <td>8.666667</td>\n",
       "      <td>7.166667</td>\n",
       "      <td>7.400000</td>\n",
       "      <td>71.333333</td>\n",
       "      <td>87.000000</td>\n",
       "      <td>92.000000</td>\n",
       "      <td>1.233333</td>\n",
       "      <td>4.633333</td>\n",
       "      <td>2.980000</td>\n",
       "      <td>1017.166667</td>\n",
       "      <td>1018.666667</td>\n",
       "      <td>1017.800000</td>\n",
       "    </tr>\n",
       "    <tr>\n",
       "      <th>2013-01-06</th>\n",
       "      <td>7.000000</td>\n",
       "      <td>82.800000</td>\n",
       "      <td>1.480000</td>\n",
       "      <td>1018.000000</td>\n",
       "      <td>6.000000</td>\n",
       "      <td>8.666667</td>\n",
       "      <td>7.166667</td>\n",
       "      <td>86.833333</td>\n",
       "      <td>71.333333</td>\n",
       "      <td>87.000000</td>\n",
       "      <td>3.700000</td>\n",
       "      <td>1.233333</td>\n",
       "      <td>4.633333</td>\n",
       "      <td>1016.500000</td>\n",
       "      <td>1017.166667</td>\n",
       "      <td>1018.666667</td>\n",
       "    </tr>\n",
       "    <tr>\n",
       "      <th>2013-01-07</th>\n",
       "      <td>7.000000</td>\n",
       "      <td>78.600000</td>\n",
       "      <td>6.300000</td>\n",
       "      <td>1020.000000</td>\n",
       "      <td>7.000000</td>\n",
       "      <td>6.000000</td>\n",
       "      <td>8.666667</td>\n",
       "      <td>82.800000</td>\n",
       "      <td>86.833333</td>\n",
       "      <td>71.333333</td>\n",
       "      <td>1.480000</td>\n",
       "      <td>3.700000</td>\n",
       "      <td>1.233333</td>\n",
       "      <td>1018.000000</td>\n",
       "      <td>1016.500000</td>\n",
       "      <td>1017.166667</td>\n",
       "    </tr>\n",
       "    <tr>\n",
       "      <th>2013-01-08</th>\n",
       "      <td>8.857143</td>\n",
       "      <td>63.714286</td>\n",
       "      <td>7.142857</td>\n",
       "      <td>1018.714286</td>\n",
       "      <td>7.000000</td>\n",
       "      <td>7.000000</td>\n",
       "      <td>6.000000</td>\n",
       "      <td>78.600000</td>\n",
       "      <td>82.800000</td>\n",
       "      <td>86.833333</td>\n",
       "      <td>6.300000</td>\n",
       "      <td>1.480000</td>\n",
       "      <td>3.700000</td>\n",
       "      <td>1020.000000</td>\n",
       "      <td>1018.000000</td>\n",
       "      <td>1016.500000</td>\n",
       "    </tr>\n",
       "    <tr>\n",
       "      <th>...</th>\n",
       "      <td>...</td>\n",
       "      <td>...</td>\n",
       "      <td>...</td>\n",
       "      <td>...</td>\n",
       "      <td>...</td>\n",
       "      <td>...</td>\n",
       "      <td>...</td>\n",
       "      <td>...</td>\n",
       "      <td>...</td>\n",
       "      <td>...</td>\n",
       "      <td>...</td>\n",
       "      <td>...</td>\n",
       "      <td>...</td>\n",
       "      <td>...</td>\n",
       "      <td>...</td>\n",
       "      <td>...</td>\n",
       "    </tr>\n",
       "    <tr>\n",
       "      <th>2016-12-28</th>\n",
       "      <td>17.217391</td>\n",
       "      <td>68.043478</td>\n",
       "      <td>3.547826</td>\n",
       "      <td>1015.565217</td>\n",
       "      <td>16.850000</td>\n",
       "      <td>17.142857</td>\n",
       "      <td>14.000000</td>\n",
       "      <td>67.550000</td>\n",
       "      <td>74.857143</td>\n",
       "      <td>94.300000</td>\n",
       "      <td>8.335000</td>\n",
       "      <td>8.784211</td>\n",
       "      <td>9.085000</td>\n",
       "      <td>1017.200000</td>\n",
       "      <td>1016.952381</td>\n",
       "      <td>1014.350000</td>\n",
       "    </tr>\n",
       "    <tr>\n",
       "      <th>2016-12-29</th>\n",
       "      <td>15.238095</td>\n",
       "      <td>87.857143</td>\n",
       "      <td>6.000000</td>\n",
       "      <td>1016.904762</td>\n",
       "      <td>17.217391</td>\n",
       "      <td>16.850000</td>\n",
       "      <td>17.142857</td>\n",
       "      <td>68.043478</td>\n",
       "      <td>67.550000</td>\n",
       "      <td>74.857143</td>\n",
       "      <td>3.547826</td>\n",
       "      <td>8.335000</td>\n",
       "      <td>8.784211</td>\n",
       "      <td>1015.565217</td>\n",
       "      <td>1017.200000</td>\n",
       "      <td>1016.952381</td>\n",
       "    </tr>\n",
       "    <tr>\n",
       "      <th>2016-12-30</th>\n",
       "      <td>14.095238</td>\n",
       "      <td>89.666667</td>\n",
       "      <td>6.266667</td>\n",
       "      <td>1017.904762</td>\n",
       "      <td>15.238095</td>\n",
       "      <td>17.217391</td>\n",
       "      <td>16.850000</td>\n",
       "      <td>87.857143</td>\n",
       "      <td>68.043478</td>\n",
       "      <td>67.550000</td>\n",
       "      <td>6.000000</td>\n",
       "      <td>3.547826</td>\n",
       "      <td>8.335000</td>\n",
       "      <td>1016.904762</td>\n",
       "      <td>1015.565217</td>\n",
       "      <td>1017.200000</td>\n",
       "    </tr>\n",
       "    <tr>\n",
       "      <th>2016-12-31</th>\n",
       "      <td>15.052632</td>\n",
       "      <td>87.000000</td>\n",
       "      <td>7.325000</td>\n",
       "      <td>1016.100000</td>\n",
       "      <td>14.095238</td>\n",
       "      <td>15.238095</td>\n",
       "      <td>17.217391</td>\n",
       "      <td>89.666667</td>\n",
       "      <td>87.857143</td>\n",
       "      <td>68.043478</td>\n",
       "      <td>6.266667</td>\n",
       "      <td>6.000000</td>\n",
       "      <td>3.547826</td>\n",
       "      <td>1017.904762</td>\n",
       "      <td>1016.904762</td>\n",
       "      <td>1015.565217</td>\n",
       "    </tr>\n",
       "    <tr>\n",
       "      <th>2017-01-01</th>\n",
       "      <td>10.000000</td>\n",
       "      <td>100.000000</td>\n",
       "      <td>0.000000</td>\n",
       "      <td>1016.000000</td>\n",
       "      <td>15.052632</td>\n",
       "      <td>14.095238</td>\n",
       "      <td>15.238095</td>\n",
       "      <td>87.000000</td>\n",
       "      <td>89.666667</td>\n",
       "      <td>87.857143</td>\n",
       "      <td>7.325000</td>\n",
       "      <td>6.266667</td>\n",
       "      <td>6.000000</td>\n",
       "      <td>1016.100000</td>\n",
       "      <td>1017.904762</td>\n",
       "      <td>1016.904762</td>\n",
       "    </tr>\n",
       "  </tbody>\n",
       "</table>\n",
       "<p>1459 rows × 16 columns</p>\n",
       "</div>"
      ],
      "text/plain": [
       "             meantemp    humidity  wind_speed  meanpressure  meantemp_lag1  \\\n",
       "date                                                                         \n",
       "2013-01-04   8.666667   71.333333    1.233333   1017.166667       7.166667   \n",
       "2013-01-05   6.000000   86.833333    3.700000   1016.500000       8.666667   \n",
       "2013-01-06   7.000000   82.800000    1.480000   1018.000000       6.000000   \n",
       "2013-01-07   7.000000   78.600000    6.300000   1020.000000       7.000000   \n",
       "2013-01-08   8.857143   63.714286    7.142857   1018.714286       7.000000   \n",
       "...               ...         ...         ...           ...            ...   \n",
       "2016-12-28  17.217391   68.043478    3.547826   1015.565217      16.850000   \n",
       "2016-12-29  15.238095   87.857143    6.000000   1016.904762      17.217391   \n",
       "2016-12-30  14.095238   89.666667    6.266667   1017.904762      15.238095   \n",
       "2016-12-31  15.052632   87.000000    7.325000   1016.100000      14.095238   \n",
       "2017-01-01  10.000000  100.000000    0.000000   1016.000000      15.052632   \n",
       "\n",
       "            meantemp_lag2  meantemp_lag3  humidity_lag1  humidity_lag2  \\\n",
       "date                                                                     \n",
       "2013-01-04       7.400000      10.000000      87.000000      92.000000   \n",
       "2013-01-05       7.166667       7.400000      71.333333      87.000000   \n",
       "2013-01-06       8.666667       7.166667      86.833333      71.333333   \n",
       "2013-01-07       6.000000       8.666667      82.800000      86.833333   \n",
       "2013-01-08       7.000000       6.000000      78.600000      82.800000   \n",
       "...                   ...            ...            ...            ...   \n",
       "2016-12-28      17.142857      14.000000      67.550000      74.857143   \n",
       "2016-12-29      16.850000      17.142857      68.043478      67.550000   \n",
       "2016-12-30      17.217391      16.850000      87.857143      68.043478   \n",
       "2016-12-31      15.238095      17.217391      89.666667      87.857143   \n",
       "2017-01-01      14.095238      15.238095      87.000000      89.666667   \n",
       "\n",
       "            humidity_lag3  wind_speed_lag1  wind_speed_lag2  wind_speed_lag3  \\\n",
       "date                                                                           \n",
       "2013-01-04      84.500000         4.633333         2.980000         0.000000   \n",
       "2013-01-05      92.000000         1.233333         4.633333         2.980000   \n",
       "2013-01-06      87.000000         3.700000         1.233333         4.633333   \n",
       "2013-01-07      71.333333         1.480000         3.700000         1.233333   \n",
       "2013-01-08      86.833333         6.300000         1.480000         3.700000   \n",
       "...                   ...              ...              ...              ...   \n",
       "2016-12-28      94.300000         8.335000         8.784211         9.085000   \n",
       "2016-12-29      74.857143         3.547826         8.335000         8.784211   \n",
       "2016-12-30      67.550000         6.000000         3.547826         8.335000   \n",
       "2016-12-31      68.043478         6.266667         6.000000         3.547826   \n",
       "2017-01-01      87.857143         7.325000         6.266667         6.000000   \n",
       "\n",
       "            meanpressure_lag1  meanpressure_lag2  meanpressure_lag3  \n",
       "date                                                                 \n",
       "2013-01-04        1018.666667        1017.800000        1015.666667  \n",
       "2013-01-05        1017.166667        1018.666667        1017.800000  \n",
       "2013-01-06        1016.500000        1017.166667        1018.666667  \n",
       "2013-01-07        1018.000000        1016.500000        1017.166667  \n",
       "2013-01-08        1020.000000        1018.000000        1016.500000  \n",
       "...                       ...                ...                ...  \n",
       "2016-12-28        1017.200000        1016.952381        1014.350000  \n",
       "2016-12-29        1015.565217        1017.200000        1016.952381  \n",
       "2016-12-30        1016.904762        1015.565217        1017.200000  \n",
       "2016-12-31        1017.904762        1016.904762        1015.565217  \n",
       "2017-01-01        1016.100000        1017.904762        1016.904762  \n",
       "\n",
       "[1459 rows x 16 columns]"
      ]
     },
     "execution_count": 25,
     "metadata": {},
     "output_type": "execute_result"
    }
   ],
   "source": [
    "df = data.copy()\n",
    "df = df.dropna()\n",
    "df"
   ]
  },
  {
   "cell_type": "markdown",
   "metadata": {
    "id": "tls69_PrbJKW"
   },
   "source": [
    "## Dataset Splitting\n",
    "Partition the dataset into training and testing sets with an 80:20 ratio.\n",
    "\n",
    "**WARNING: DO NOT SHUFFLE THE DATASET.**\n",
    "\n"
   ]
  },
  {
   "cell_type": "code",
   "execution_count": 104,
   "metadata": {
    "id": "PjGGGMxebeoB"
   },
   "outputs": [],
   "source": [
    "from sklearn.model_selection import train_test_split\n",
    "columns = ['meantemp','meantemp_lag1', 'meantemp_lag2', 'meantemp_lag3']\n",
    "X = df.drop(columns = columns,axis=1)\n",
    "y = df['meantemp']\n",
    "X_train, X_test, y_train, y_test = train_test_split(X,y, test_size=0.2, shuffle=False)"
   ]
  },
  {
   "cell_type": "code",
   "execution_count": 29,
   "metadata": {
    "id": "PjGGGMxebeoB",
    "scrolled": true
   },
   "outputs": [
    {
     "data": {
      "text/plain": [
       "array([ 8.66666667,  6.        ,  7.        ,  8.85714286, 14.        ,\n",
       "       11.        , 15.71428571, 15.83333333, 12.83333333, 14.71428571,\n",
       "       13.83333333, 16.5       , 12.5       , 11.28571429, 11.2       ,\n",
       "        9.5       , 12.25      , 12.66666667, 12.85714286, 14.83333333,\n",
       "       14.125     , 16.2       , 16.        , 16.28571429, 18.        ,\n",
       "       17.42857143, 16.625     , 16.66666667, 15.6       , 15.42857143,\n",
       "       15.25      , 15.875     , 15.33333333, 17.33333333, 19.16666667,\n",
       "       14.42857143, 13.66666667, 15.85714286, 17.71428571, 20.        ,\n",
       "       20.5       , 16.85714286, 16.875     , 17.85714286, 20.8       ,\n",
       "       19.42857143, 19.        , 19.33333333, 17.6       , 20.875     ,\n",
       "       20.85714286, 23.42857143, 24.16666667, 25.42857143, 23.14285714,\n",
       "       24.        , 23.5       , 21.5       , 22.33333333, 20.33333333,\n",
       "       22.66666667, 22.5       , 29.16666667, 23.83333333, 25.25      ,\n",
       "       27.375     , 27.        , 24.14285714, 21.        , 22.42857143,\n",
       "       21.25      , 23.2       , 25.375     , 25.16666667, 26.2       ,\n",
       "       24.6       , 25.6       , 25.85714286, 29.14285714, 28.71428571,\n",
       "       30.16666667, 30.        , 28.85714286, 30.2       , 28.25      ,\n",
       "       32.125     , 29.2       , 30.28571429, 28.28571429, 30.625     ,\n",
       "       27.66666667, 28.625     , 31.14285714, 29.875     , 30.57142857,\n",
       "       31.85714286, 29.83333333, 28.57142857, 32.85714286, 32.625     ,\n",
       "       32.75      , 32.875     , 34.5       , 34.28571429, 34.        ,\n",
       "       30.75      , 29.85714286, 31.71428571, 32.28571429, 33.        ,\n",
       "       32.83333333, 31.4       , 35.33333333, 36.4       , 36.        ,\n",
       "       36.75      , 37.5       , 38.42857143, 38.71428571, 37.8       ,\n",
       "       35.85714286, 34.14285714, 32.2       , 33.625     , 32.        ,\n",
       "       32.4       , 35.6       , 37.16666667, 31.28571429, 34.2       ,\n",
       "       36.16666667, 36.625     , 30.14285714, 30.71428571, 26.875     ,\n",
       "       28.4       , 34.83333333, 35.16666667, 33.14285714, 30.66666667,\n",
       "       31.42857143, 31.5       , 33.25      , 33.85714286, 31.57142857,\n",
       "       32.375     , 32.8       , 31.        , 31.16666667, 29.        ,\n",
       "       29.75      , 32.5       , 28.875     , 31.75      , 31.125     ,\n",
       "       30.5       , 26.83333333, 28.2       , 29.5       , 29.71428571,\n",
       "       28.33333333, 28.83333333, 27.16666667, 28.375     , 28.5       ,\n",
       "       29.42857143, 29.66666667, 27.71428571, 26.6       , 27.42857143,\n",
       "       28.16666667, 32.14285714, 31.66666667, 30.83333333, 28.        ,\n",
       "       30.85714286, 31.625     , 29.25      , 29.8       , 28.66666667,\n",
       "       25.2       , 28.14285714, 26.85714286, 28.6       , 24.83333333,\n",
       "       23.85714286, 26.14285714, 26.42857143, 26.33333333, 24.57142857,\n",
       "       24.33333333, 24.875     , 27.8       , 25.        , 22.8       ,\n",
       "       23.        , 22.875     , 22.85714286, 23.66666667, 21.625     ,\n",
       "       20.625     , 21.16666667, 18.83333333, 20.57142857, 20.14285714,\n",
       "       19.85714286, 16.83333333, 18.85714286, 16.57142857, 17.75      ,\n",
       "       17.625     , 17.        , 15.57142857, 18.5       , 17.875     ,\n",
       "       18.25      , 18.14285714, 19.125     , 18.625     , 17.25      ,\n",
       "       17.5       , 17.14285714, 16.125     , 15.5       , 16.14285714,\n",
       "       14.75      , 14.875     , 15.375     , 14.25      , 13.5       ,\n",
       "       12.125     , 11.875     , 10.875     , 10.57142857, 12.375     ,\n",
       "       14.5       , 13.375     , 12.875     , 11.42857143, 12.14285714,\n",
       "       12.        , 12.28571429, 14.625     , 13.57142857, 15.625     ,\n",
       "       13.875     , 11.75      , 14.375     , 18.42857143, 19.625     ,\n",
       "       13.625     , 12.625     , 13.25      , 13.        , 15.125     ,\n",
       "       17.125     , 16.375     , 18.125     , 18.75      , 18.875     ,\n",
       "       18.375     , 19.875     , 22.        , 20.71428571, 23.125     ,\n",
       "       26.25      , 24.85714286, 21.75      , 22.75      , 22.375     ,\n",
       "       24.625     , 25.125     , 24.42857143, 25.875     , 24.125     ,\n",
       "       26.75      , 30.125     , 27.25      , 25.75      , 26.375     ,\n",
       "       29.125     , 27.625     , 27.125     , 24.25      , 25.625     ,\n",
       "       29.375     , 34.875     , 34.375     , 31.875     , 29.57142857,\n",
       "       31.375     , 29.625     , 34.625     , 35.25      , 33.125     ,\n",
       "       36.875     , 38.5       , 37.625     , 37.875     , 37.25      ,\n",
       "       30.25      , 33.875     , 36.375     , 35.75      , 38.        ,\n",
       "       32.25      , 34.75      , 31.38888889, 34.70588235, 35.        ,\n",
       "       36.125     , 35.875     , 30.875     , 29.23529412, 30.375     ,\n",
       "       30.42857143, 34.125     , 27.875     , 26.5       , 31.25      ,\n",
       "       28.75      , 26.57142857, 25.71428571, 26.        , 24.5       ,\n",
       "       23.75      , 24.75      , 25.5       , 23.875     , 23.375     ,\n",
       "       23.625     , 21.375     , 19.25      , 20.375     , 19.375     ,\n",
       "       20.25      , 19.75      , 15.28571429, 11.25      ,  9.375     ,\n",
       "        9.625     ,  9.875     ,  9.25      , 10.75      , 10.375     ,\n",
       "        9.        , 11.125     , 11.625     , 10.        , 10.625     ,\n",
       "       13.75      , 11.71428571, 11.5       , 12.75      , 15.        ,\n",
       "       17.375     , 16.75      , 15.75      , 21.14285714, 21.875     ,\n",
       "       22.14285714, 16.25      , 19.5       , 21.125     , 26.625     ,\n",
       "       23.57142857, 24.375     , 28.125     , 35.42857143, 35.125     ,\n",
       "       27.75      , 35.375     , 35.625     , 36.25      , 37.375     ,\n",
       "       37.75      , 33.75      , 34.25      , 33.375     , 36.5       ,\n",
       "       35.71428571, 29.59375   , 27.5       , 22.125     , 13.125     ,\n",
       "       18.26666667, 15.5625    , 13.6       , 13.26666667, 12.35714286,\n",
       "       12.06666667, 12.1875    , 11.73333333, 14.4375    , 11.1875    ,\n",
       "       11.66666667, 14.5625    , 17.58333333, 19.5625    , 15.84615385,\n",
       "       15.26666667, 16.36363636, 17.09090909, 17.76923077, 18.13333333,\n",
       "       19.6875    , 19.2       , 17.06666667, 17.64285714, 18.21428571,\n",
       "       18.71428571, 19.46666667, 23.15384615, 21.42857143, 21.6875    ,\n",
       "       22.5625    , 24.91666667, 24.93333333, 27.3125    , 23.93333333,\n",
       "       22.8125    , 23.71428571, 25.5625    , 25.06666667, 24.5625    ,\n",
       "       24.06666667, 23.9375    , 26.3125    , 26.1875    , 26.78571429,\n",
       "       27.13333333, 25.0625    , 28.13333333, 24.66666667, 25.93333333,\n",
       "       32.3125    , 33.3125    , 32.8125    , 29.93333333, 29.26666667,\n",
       "       30.73333333, 35.6875    , 34.66666667, 34.0625    , 31.91666667,\n",
       "       31.3125    , 33.4375    , 34.15384615, 34.07142857, 33.0625    ,\n",
       "       34.6875    , 35.5       , 33.71428571, 30.6       , 31.4375    ,\n",
       "       35.13333333, 33.53333333, 37.29411765, 36.5625    , 37.21428571,\n",
       "       37.4       , 36.13333333, 36.8       , 32.21428571, 31.52631579,\n",
       "       33.2173913 , 35.26923077, 38.27272727, 36.0625    , 26.8125    ,\n",
       "       32.64285714, 37.5625    , 38.2       , 36.07142857, 35.73333333,\n",
       "       34.73333333, 33.5       , 34.1875    , 30.9375    , 33.84615385,\n",
       "       36.4375    , 34.86666667, 34.3125    , 30.78571429, 35.46666667,\n",
       "       29.5625    , 30.6875    , 33.26666667, 30.8       , 32.5625    ,\n",
       "       30.4375    , 34.13333333, 31.9375    , 30.3125    , 28.3125    ,\n",
       "       29.53333333, 27.33333333, 33.11111111, 33.8       , 30.06666667,\n",
       "       33.11764706, 33.80952381, 31.61538462, 28.10714286, 29.03571429,\n",
       "       30.32142857, 28.93333333, 31.67857143, 31.33333333, 29.92857143,\n",
       "       29.88888889, 32.07142857, 33.18518519, 31.59259259, 32.18518519,\n",
       "       31.48      , 30.17857143, 31.52      , 31.22222222, 31.78571429,\n",
       "       33.4       , 30.04      , 27.25925926, 27.96      , 30.73913043,\n",
       "       30.89473684, 31.69230769, 31.07692308, 31.1       , 30.55555556,\n",
       "       31.23076923, 31.64285714, 32.53333333, 31.72727273, 32.30769231,\n",
       "       33.44444444, 33.36      , 30.03703704, 31.24      , 31.13043478,\n",
       "       32.44      , 32.22727273, 32.54166667, 32.81481481, 33.26923077,\n",
       "       30.7037037 , 30.96      , 30.92      , 29.77777778, 29.96296296,\n",
       "       27.74074074, 28.42857143, 28.92592593, 29.07692308, 28.40909091,\n",
       "       29.33333333, 28.04      , 27.57692308, 26.55555556, 25.51851852,\n",
       "       25.81481481, 24.82608696, 24.53846154, 24.38461538, 23.72727273,\n",
       "       25.64      , 24.81481481, 23.11538462, 22.92592593, 24.54545455,\n",
       "       23.73076923, 23.51851852, 23.92      , 23.53846154, 24.2962963 ,\n",
       "       23.34615385, 22.24      , 21.76923077, 21.73076923, 20.66666667,\n",
       "       22.25      , 21.53846154, 22.57894737, 22.82608696, 21.42105263,\n",
       "       23.6       , 24.29411765, 23.63636364, 22.45454545, 21.61111111,\n",
       "       19.86956522, 19.20833333, 21.20833333, 18.9       , 18.63636364,\n",
       "       18.53846154, 16.9       , 19.41666667, 16.44444444, 20.04166667,\n",
       "       19.90909091, 19.05      , 18.55555556, 18.16666667, 16.08333333,\n",
       "       19.8       , 18.05      , 17.28571429, 15.55      , 17.31818182,\n",
       "       16.85      , 17.2173913 , 15.23809524, 14.0952381 , 15.05263158])"
      ]
     },
     "execution_count": 29,
     "metadata": {},
     "output_type": "execute_result"
    }
   ],
   "source": [
    "\n",
    "y.unique()"
   ]
  },
  {
   "cell_type": "code",
   "execution_count": 30,
   "metadata": {
    "id": "PjGGGMxebeoB",
    "scrolled": true
   },
   "outputs": [],
   "source": [
    "scaler = MinMaxScaler()\n",
    "train_X = scaler.fit_transform(X_train)\n",
    "test_X = scaler.transform(X_test)"
   ]
  },
  {
   "cell_type": "code",
   "execution_count": 31,
   "metadata": {
    "id": "PjGGGMxebeoB",
    "scrolled": true
   },
   "outputs": [
    {
     "data": {
      "text/plain": [
       "12"
      ]
     },
     "execution_count": 31,
     "metadata": {},
     "output_type": "execute_result"
    }
   ],
   "source": [
    "X.shape[1]"
   ]
  },
  {
   "cell_type": "code",
   "execution_count": 97,
   "metadata": {
    "id": "PjGGGMxebeoB",
    "scrolled": true
   },
   "outputs": [],
   "source": [
    "model = Sequential([\n",
    "    Input(shape=(X.shape[1],)),\n",
    "    Dense(16, kernel_initializer=\"uniform\", activation=\"relu\"),\n",
    "   # Dropout(0.1),\n",
    "    Dense(8, kernel_initializer=\"uniform\", activation=\"relu\"),\n",
    "    Dense(1, kernel_initializer=\"uniform\", activation=\"linear\"),\n",
    "])"
   ]
  },
  {
   "cell_type": "code",
   "execution_count": 98,
   "metadata": {
    "id": "PjGGGMxebeoB",
    "scrolled": true
   },
   "outputs": [
    {
     "data": {
      "text/html": [
       "<pre style=\"white-space:pre;overflow-x:auto;line-height:normal;font-family:Menlo,'DejaVu Sans Mono',consolas,'Courier New',monospace\"><span style=\"font-weight: bold\">Model: \"sequential_5\"</span>\n",
       "</pre>\n"
      ],
      "text/plain": [
       "\u001b[1mModel: \"sequential_5\"\u001b[0m\n"
      ]
     },
     "metadata": {},
     "output_type": "display_data"
    },
    {
     "data": {
      "text/html": [
       "<pre style=\"white-space:pre;overflow-x:auto;line-height:normal;font-family:Menlo,'DejaVu Sans Mono',consolas,'Courier New',monospace\">┏━━━━━━━━━━━━━━━━━━━━━━━━━━━━━━━━━┳━━━━━━━━━━━━━━━━━━━━━━━━┳━━━━━━━━━━━━━━━┓\n",
       "┃<span style=\"font-weight: bold\"> Layer (type)                    </span>┃<span style=\"font-weight: bold\"> Output Shape           </span>┃<span style=\"font-weight: bold\">       Param # </span>┃\n",
       "┡━━━━━━━━━━━━━━━━━━━━━━━━━━━━━━━━━╇━━━━━━━━━━━━━━━━━━━━━━━━╇━━━━━━━━━━━━━━━┩\n",
       "│ dense_18 (<span style=\"color: #0087ff; text-decoration-color: #0087ff\">Dense</span>)                │ (<span style=\"color: #00d7ff; text-decoration-color: #00d7ff\">None</span>, <span style=\"color: #00af00; text-decoration-color: #00af00\">16</span>)             │           <span style=\"color: #00af00; text-decoration-color: #00af00\">208</span> │\n",
       "├─────────────────────────────────┼────────────────────────┼───────────────┤\n",
       "│ dense_19 (<span style=\"color: #0087ff; text-decoration-color: #0087ff\">Dense</span>)                │ (<span style=\"color: #00d7ff; text-decoration-color: #00d7ff\">None</span>, <span style=\"color: #00af00; text-decoration-color: #00af00\">8</span>)              │           <span style=\"color: #00af00; text-decoration-color: #00af00\">136</span> │\n",
       "├─────────────────────────────────┼────────────────────────┼───────────────┤\n",
       "│ dense_20 (<span style=\"color: #0087ff; text-decoration-color: #0087ff\">Dense</span>)                │ (<span style=\"color: #00d7ff; text-decoration-color: #00d7ff\">None</span>, <span style=\"color: #00af00; text-decoration-color: #00af00\">1</span>)              │             <span style=\"color: #00af00; text-decoration-color: #00af00\">9</span> │\n",
       "└─────────────────────────────────┴────────────────────────┴───────────────┘\n",
       "</pre>\n"
      ],
      "text/plain": [
       "┏━━━━━━━━━━━━━━━━━━━━━━━━━━━━━━━━━┳━━━━━━━━━━━━━━━━━━━━━━━━┳━━━━━━━━━━━━━━━┓\n",
       "┃\u001b[1m \u001b[0m\u001b[1mLayer (type)                   \u001b[0m\u001b[1m \u001b[0m┃\u001b[1m \u001b[0m\u001b[1mOutput Shape          \u001b[0m\u001b[1m \u001b[0m┃\u001b[1m \u001b[0m\u001b[1m      Param #\u001b[0m\u001b[1m \u001b[0m┃\n",
       "┡━━━━━━━━━━━━━━━━━━━━━━━━━━━━━━━━━╇━━━━━━━━━━━━━━━━━━━━━━━━╇━━━━━━━━━━━━━━━┩\n",
       "│ dense_18 (\u001b[38;5;33mDense\u001b[0m)                │ (\u001b[38;5;45mNone\u001b[0m, \u001b[38;5;34m16\u001b[0m)             │           \u001b[38;5;34m208\u001b[0m │\n",
       "├─────────────────────────────────┼────────────────────────┼───────────────┤\n",
       "│ dense_19 (\u001b[38;5;33mDense\u001b[0m)                │ (\u001b[38;5;45mNone\u001b[0m, \u001b[38;5;34m8\u001b[0m)              │           \u001b[38;5;34m136\u001b[0m │\n",
       "├─────────────────────────────────┼────────────────────────┼───────────────┤\n",
       "│ dense_20 (\u001b[38;5;33mDense\u001b[0m)                │ (\u001b[38;5;45mNone\u001b[0m, \u001b[38;5;34m1\u001b[0m)              │             \u001b[38;5;34m9\u001b[0m │\n",
       "└─────────────────────────────────┴────────────────────────┴───────────────┘\n"
      ]
     },
     "metadata": {},
     "output_type": "display_data"
    },
    {
     "data": {
      "text/html": [
       "<pre style=\"white-space:pre;overflow-x:auto;line-height:normal;font-family:Menlo,'DejaVu Sans Mono',consolas,'Courier New',monospace\"><span style=\"font-weight: bold\"> Total params: </span><span style=\"color: #00af00; text-decoration-color: #00af00\">353</span> (1.38 KB)\n",
       "</pre>\n"
      ],
      "text/plain": [
       "\u001b[1m Total params: \u001b[0m\u001b[38;5;34m353\u001b[0m (1.38 KB)\n"
      ]
     },
     "metadata": {},
     "output_type": "display_data"
    },
    {
     "data": {
      "text/html": [
       "<pre style=\"white-space:pre;overflow-x:auto;line-height:normal;font-family:Menlo,'DejaVu Sans Mono',consolas,'Courier New',monospace\"><span style=\"font-weight: bold\"> Trainable params: </span><span style=\"color: #00af00; text-decoration-color: #00af00\">353</span> (1.38 KB)\n",
       "</pre>\n"
      ],
      "text/plain": [
       "\u001b[1m Trainable params: \u001b[0m\u001b[38;5;34m353\u001b[0m (1.38 KB)\n"
      ]
     },
     "metadata": {},
     "output_type": "display_data"
    },
    {
     "data": {
      "text/html": [
       "<pre style=\"white-space:pre;overflow-x:auto;line-height:normal;font-family:Menlo,'DejaVu Sans Mono',consolas,'Courier New',monospace\"><span style=\"font-weight: bold\"> Non-trainable params: </span><span style=\"color: #00af00; text-decoration-color: #00af00\">0</span> (0.00 B)\n",
       "</pre>\n"
      ],
      "text/plain": [
       "\u001b[1m Non-trainable params: \u001b[0m\u001b[38;5;34m0\u001b[0m (0.00 B)\n"
      ]
     },
     "metadata": {},
     "output_type": "display_data"
    }
   ],
   "source": [
    "model.summary()"
   ]
  },
  {
   "cell_type": "code",
   "execution_count": 99,
   "metadata": {
    "id": "PjGGGMxebeoB",
    "scrolled": true
   },
   "outputs": [],
   "source": [
    "model.compile(\n",
    "    loss=\"mean_squared_error\",\n",
    "    optimizer=\"adam\",\n",
    "    metrics=[\"mean_squared_error\"]\n",
    ")"
   ]
  },
  {
   "cell_type": "code",
   "execution_count": 100,
   "metadata": {
    "id": "PjGGGMxebeoB",
    "scrolled": true
   },
   "outputs": [
    {
     "name": "stdout",
     "output_type": "stream",
     "text": [
      "Epoch 1/32\n",
      "\u001b[1m132/132\u001b[0m \u001b[32m━━━━━━━━━━━━━━━━━━━━\u001b[0m\u001b[37m\u001b[0m \u001b[1m1s\u001b[0m 2ms/step - loss: 706.5557 - mean_squared_error: 706.5557 - val_loss: 243.3331 - val_mean_squared_error: 243.3331\n",
      "Epoch 2/32\n",
      "\u001b[1m132/132\u001b[0m \u001b[32m━━━━━━━━━━━━━━━━━━━━\u001b[0m\u001b[37m\u001b[0m \u001b[1m0s\u001b[0m 925us/step - loss: 502.3807 - mean_squared_error: 502.3807 - val_loss: 34.4496 - val_mean_squared_error: 34.4496\n",
      "Epoch 3/32\n",
      "\u001b[1m132/132\u001b[0m \u001b[32m━━━━━━━━━━━━━━━━━━━━\u001b[0m\u001b[37m\u001b[0m \u001b[1m0s\u001b[0m 933us/step - loss: 144.9792 - mean_squared_error: 144.9792 - val_loss: 116.0202 - val_mean_squared_error: 116.0202\n",
      "Epoch 4/32\n",
      "\u001b[1m132/132\u001b[0m \u001b[32m━━━━━━━━━━━━━━━━━━━━\u001b[0m\u001b[37m\u001b[0m \u001b[1m0s\u001b[0m 923us/step - loss: 136.2397 - mean_squared_error: 136.2397 - val_loss: 104.7769 - val_mean_squared_error: 104.7769\n",
      "Epoch 5/32\n",
      "\u001b[1m132/132\u001b[0m \u001b[32m━━━━━━━━━━━━━━━━━━━━\u001b[0m\u001b[37m\u001b[0m \u001b[1m0s\u001b[0m 930us/step - loss: 119.1748 - mean_squared_error: 119.1748 - val_loss: 100.6484 - val_mean_squared_error: 100.6484\n",
      "Epoch 6/32\n",
      "\u001b[1m132/132\u001b[0m \u001b[32m━━━━━━━━━━━━━━━━━━━━\u001b[0m\u001b[37m\u001b[0m \u001b[1m0s\u001b[0m 903us/step - loss: 107.4981 - mean_squared_error: 107.4981 - val_loss: 77.0710 - val_mean_squared_error: 77.0710\n",
      "Epoch 7/32\n",
      "\u001b[1m132/132\u001b[0m \u001b[32m━━━━━━━━━━━━━━━━━━━━\u001b[0m\u001b[37m\u001b[0m \u001b[1m0s\u001b[0m 902us/step - loss: 103.2069 - mean_squared_error: 103.2069 - val_loss: 81.6653 - val_mean_squared_error: 81.6653\n",
      "Epoch 8/32\n",
      "\u001b[1m132/132\u001b[0m \u001b[32m━━━━━━━━━━━━━━━━━━━━\u001b[0m\u001b[37m\u001b[0m \u001b[1m0s\u001b[0m 918us/step - loss: 85.3478 - mean_squared_error: 85.3478 - val_loss: 78.4349 - val_mean_squared_error: 78.4349\n",
      "Epoch 9/32\n",
      "\u001b[1m132/132\u001b[0m \u001b[32m━━━━━━━━━━━━━━━━━━━━\u001b[0m\u001b[37m\u001b[0m \u001b[1m0s\u001b[0m 924us/step - loss: 78.1168 - mean_squared_error: 78.1168 - val_loss: 58.2960 - val_mean_squared_error: 58.2960\n",
      "Epoch 10/32\n",
      "\u001b[1m132/132\u001b[0m \u001b[32m━━━━━━━━━━━━━━━━━━━━\u001b[0m\u001b[37m\u001b[0m \u001b[1m0s\u001b[0m 918us/step - loss: 67.5020 - mean_squared_error: 67.5020 - val_loss: 53.6663 - val_mean_squared_error: 53.6663\n",
      "Epoch 11/32\n",
      "\u001b[1m132/132\u001b[0m \u001b[32m━━━━━━━━━━━━━━━━━━━━\u001b[0m\u001b[37m\u001b[0m \u001b[1m0s\u001b[0m 950us/step - loss: 58.0537 - mean_squared_error: 58.0537 - val_loss: 42.2932 - val_mean_squared_error: 42.2932\n",
      "Epoch 12/32\n",
      "\u001b[1m132/132\u001b[0m \u001b[32m━━━━━━━━━━━━━━━━━━━━\u001b[0m\u001b[37m\u001b[0m \u001b[1m0s\u001b[0m 949us/step - loss: 51.6425 - mean_squared_error: 51.6425 - val_loss: 36.6665 - val_mean_squared_error: 36.6665\n",
      "Epoch 13/32\n",
      "\u001b[1m132/132\u001b[0m \u001b[32m━━━━━━━━━━━━━━━━━━━━\u001b[0m\u001b[37m\u001b[0m \u001b[1m0s\u001b[0m 933us/step - loss: 44.3659 - mean_squared_error: 44.3659 - val_loss: 28.6397 - val_mean_squared_error: 28.6397\n",
      "Epoch 14/32\n",
      "\u001b[1m132/132\u001b[0m \u001b[32m━━━━━━━━━━━━━━━━━━━━\u001b[0m\u001b[37m\u001b[0m \u001b[1m0s\u001b[0m 926us/step - loss: 41.2798 - mean_squared_error: 41.2798 - val_loss: 25.7359 - val_mean_squared_error: 25.7359\n",
      "Epoch 15/32\n",
      "\u001b[1m132/132\u001b[0m \u001b[32m━━━━━━━━━━━━━━━━━━━━\u001b[0m\u001b[37m\u001b[0m \u001b[1m0s\u001b[0m 925us/step - loss: 37.5797 - mean_squared_error: 37.5797 - val_loss: 23.4589 - val_mean_squared_error: 23.4589\n",
      "Epoch 16/32\n",
      "\u001b[1m132/132\u001b[0m \u001b[32m━━━━━━━━━━━━━━━━━━━━\u001b[0m\u001b[37m\u001b[0m \u001b[1m0s\u001b[0m 976us/step - loss: 35.0077 - mean_squared_error: 35.0077 - val_loss: 22.3248 - val_mean_squared_error: 22.3248\n",
      "Epoch 17/32\n",
      "\u001b[1m132/132\u001b[0m \u001b[32m━━━━━━━━━━━━━━━━━━━━\u001b[0m\u001b[37m\u001b[0m \u001b[1m0s\u001b[0m 963us/step - loss: 34.7452 - mean_squared_error: 34.7452 - val_loss: 21.4278 - val_mean_squared_error: 21.4278\n",
      "Epoch 18/32\n",
      "\u001b[1m132/132\u001b[0m \u001b[32m━━━━━━━━━━━━━━━━━━━━\u001b[0m\u001b[37m\u001b[0m \u001b[1m0s\u001b[0m 952us/step - loss: 33.6630 - mean_squared_error: 33.6630 - val_loss: 22.8326 - val_mean_squared_error: 22.8326\n",
      "Epoch 19/32\n",
      "\u001b[1m132/132\u001b[0m \u001b[32m━━━━━━━━━━━━━━━━━━━━\u001b[0m\u001b[37m\u001b[0m \u001b[1m0s\u001b[0m 963us/step - loss: 33.1768 - mean_squared_error: 33.1768 - val_loss: 20.2789 - val_mean_squared_error: 20.2789\n",
      "Epoch 20/32\n",
      "\u001b[1m132/132\u001b[0m \u001b[32m━━━━━━━━━━━━━━━━━━━━\u001b[0m\u001b[37m\u001b[0m \u001b[1m0s\u001b[0m 930us/step - loss: 29.7602 - mean_squared_error: 29.7602 - val_loss: 19.8604 - val_mean_squared_error: 19.8604\n",
      "Epoch 21/32\n",
      "\u001b[1m132/132\u001b[0m \u001b[32m━━━━━━━━━━━━━━━━━━━━\u001b[0m\u001b[37m\u001b[0m \u001b[1m0s\u001b[0m 921us/step - loss: 27.5277 - mean_squared_error: 27.5277 - val_loss: 19.7025 - val_mean_squared_error: 19.7025\n",
      "Epoch 22/32\n",
      "\u001b[1m132/132\u001b[0m \u001b[32m━━━━━━━━━━━━━━━━━━━━\u001b[0m\u001b[37m\u001b[0m \u001b[1m0s\u001b[0m 916us/step - loss: 26.6535 - mean_squared_error: 26.6535 - val_loss: 18.6431 - val_mean_squared_error: 18.6431\n",
      "Epoch 23/32\n",
      "\u001b[1m132/132\u001b[0m \u001b[32m━━━━━━━━━━━━━━━━━━━━\u001b[0m\u001b[37m\u001b[0m \u001b[1m0s\u001b[0m 917us/step - loss: 25.5280 - mean_squared_error: 25.5280 - val_loss: 18.4253 - val_mean_squared_error: 18.4253\n",
      "Epoch 24/32\n",
      "\u001b[1m132/132\u001b[0m \u001b[32m━━━━━━━━━━━━━━━━━━━━\u001b[0m\u001b[37m\u001b[0m \u001b[1m0s\u001b[0m 926us/step - loss: 24.5450 - mean_squared_error: 24.5450 - val_loss: 17.2071 - val_mean_squared_error: 17.2071\n",
      "Epoch 25/32\n",
      "\u001b[1m132/132\u001b[0m \u001b[32m━━━━━━━━━━━━━━━━━━━━\u001b[0m\u001b[37m\u001b[0m \u001b[1m0s\u001b[0m 927us/step - loss: 22.5387 - mean_squared_error: 22.5387 - val_loss: 17.0675 - val_mean_squared_error: 17.0675\n",
      "Epoch 26/32\n",
      "\u001b[1m132/132\u001b[0m \u001b[32m━━━━━━━━━━━━━━━━━━━━\u001b[0m\u001b[37m\u001b[0m \u001b[1m0s\u001b[0m 930us/step - loss: 21.6245 - mean_squared_error: 21.6245 - val_loss: 16.2987 - val_mean_squared_error: 16.2987\n",
      "Epoch 27/32\n",
      "\u001b[1m132/132\u001b[0m \u001b[32m━━━━━━━━━━━━━━━━━━━━\u001b[0m\u001b[37m\u001b[0m \u001b[1m0s\u001b[0m 940us/step - loss: 22.0259 - mean_squared_error: 22.0259 - val_loss: 15.4080 - val_mean_squared_error: 15.4080\n",
      "Epoch 28/32\n",
      "\u001b[1m132/132\u001b[0m \u001b[32m━━━━━━━━━━━━━━━━━━━━\u001b[0m\u001b[37m\u001b[0m \u001b[1m0s\u001b[0m 924us/step - loss: 19.2171 - mean_squared_error: 19.2171 - val_loss: 15.2175 - val_mean_squared_error: 15.2175\n",
      "Epoch 29/32\n",
      "\u001b[1m132/132\u001b[0m \u001b[32m━━━━━━━━━━━━━━━━━━━━\u001b[0m\u001b[37m\u001b[0m \u001b[1m0s\u001b[0m 915us/step - loss: 16.6005 - mean_squared_error: 16.6005 - val_loss: 14.0047 - val_mean_squared_error: 14.0047\n",
      "Epoch 30/32\n",
      "\u001b[1m132/132\u001b[0m \u001b[32m━━━━━━━━━━━━━━━━━━━━\u001b[0m\u001b[37m\u001b[0m \u001b[1m0s\u001b[0m 933us/step - loss: 17.3033 - mean_squared_error: 17.3033 - val_loss: 13.5693 - val_mean_squared_error: 13.5693\n",
      "Epoch 31/32\n",
      "\u001b[1m132/132\u001b[0m \u001b[32m━━━━━━━━━━━━━━━━━━━━\u001b[0m\u001b[37m\u001b[0m \u001b[1m0s\u001b[0m 938us/step - loss: 15.2405 - mean_squared_error: 15.2405 - val_loss: 13.0258 - val_mean_squared_error: 13.0258\n",
      "Epoch 32/32\n",
      "\u001b[1m132/132\u001b[0m \u001b[32m━━━━━━━━━━━━━━━━━━━━\u001b[0m\u001b[37m\u001b[0m \u001b[1m0s\u001b[0m 935us/step - loss: 13.5861 - mean_squared_error: 13.5861 - val_loss: 12.1616 - val_mean_squared_error: 12.1616\n"
     ]
    }
   ],
   "source": [
    "history = model.fit(train_X, y_train, validation_split=0.1, epochs=32, batch_size=8)\n",
    "\n"
   ]
  },
  {
   "cell_type": "code",
   "execution_count": 101,
   "metadata": {
    "id": "PjGGGMxebeoB"
   },
   "outputs": [
    {
     "data": {
      "text/plain": [
       "<Axes: >"
      ]
     },
     "execution_count": 101,
     "metadata": {},
     "output_type": "execute_result"
    },
    {
     "data": {
      "image/png": "[encoded data removed]",
      "text/plain": [
       "<Figure size 640x480 with 1 Axes>"
      ]
     },
     "metadata": {},
     "output_type": "display_data"
    }
   ],
   "source": [
    "sns.lineplot(history.history['loss'], label='loss')\n",
    "sns.lineplot(history.history['val_loss'], label='val_loss')"
   ]
  },
  {
   "cell_type": "code",
   "execution_count": 102,
   "metadata": {
    "id": "PjGGGMxebeoB",
    "scrolled": true
   },
   "outputs": [
    {
     "name": "stdout",
     "output_type": "stream",
     "text": [
      "\u001b[1m10/10\u001b[0m \u001b[32m━━━━━━━━━━━━━━━━━━━━\u001b[0m\u001b[37m\u001b[0m \u001b[1m0s\u001b[0m 3ms/step \n"
     ]
    }
   ],
   "source": [
    "pred_y = model.predict(test_X)"
   ]
  },
  {
   "cell_type": "code",
   "execution_count": 103,
   "metadata": {
    "id": "PjGGGMxebeoB",
    "scrolled": true
   },
   "outputs": [
    {
     "data": {
      "text/plain": [
       "-36.87606095894461"
      ]
     },
     "execution_count": 103,
     "metadata": {},
     "output_type": "execute_result"
    }
   ],
   "source": [
    "r2_score(y_test, pred_y)"
   ]
  },
  {
   "cell_type": "markdown",
   "metadata": {
    "id": "VIkAR1Hibiwr"
   },
   "source": [
    "## Ensemble Learning Methods"
   ]
  },
  {
   "cell_type": "markdown",
   "metadata": {
    "id": "-XPgBlD7jgI5"
   },
   "source": [
    "### Bagging"
   ]
  },
  {
   "cell_type": "markdown",
   "metadata": {
    "id": "qWn1pafKbnxH"
   },
   "source": [
    "Create an instance of a Random Forest model and train it using the `fit` function."
   ]
  },
  {
   "cell_type": "code",
   "execution_count": 106,
   "metadata": {
    "id": "IXFIrQthbnkb"
   },
   "outputs": [],
   "source": [
    "from sklearn.ensemble import RandomForestRegressor\n",
    "model_rf = RandomForestRegressor()\n",
    "model_rf.fit(X_train,y_train)\n",
    "\n",
    "y_pred_rf = model_rf.predict(X_test)"
   ]
  },
  {
   "cell_type": "markdown",
   "metadata": {
    "id": "gyXZwAVab8Cp"
   },
   "source": [
    "Use the trained model to make predictions for the test set."
   ]
  },
  {
   "cell_type": "code",
   "execution_count": 107,
   "metadata": {
    "id": "EvMfVum6b_9b"
   },
   "outputs": [
    {
     "name": "stdout",
     "output_type": "stream",
     "text": [
      "Random Forest\n",
      "\n",
      "MSE: 6.5833447516123975\n",
      "MAE: 1.9937158868698697\n",
      "R2 : 0.7944729582262875\n"
     ]
    }
   ],
   "source": [
    "from sklearn.metrics import mean_squared_error, mean_absolute_error, r2_score\n",
    "mse_rf = mean_squared_error(y_test, y_pred_rf)\n",
    "mae_rf = mean_absolute_error(y_test, y_pred_rf)\n",
    "r2_rf = r2_score(y_test, y_pred_rf)\n",
    "print(f'Random Forest\\n')\n",
    "print(f'MSE: {mse_rf}')\n",
    "print(f'MAE: {mae_rf}')\n",
    "print(f'R2 : {r2_rf}')"
   ]
  },
  {
   "cell_type": "markdown",
   "metadata": {
    "id": "3VxAvDPtcNCh"
   },
   "source": [
    "Assess the performance of the model by using different metrics provided by the `scikit-learn` library."
   ]
  },
  {
   "cell_type": "code",
   "execution_count": 108,
   "metadata": {
    "id": "V4axpktycQhp"
   },
   "outputs": [
    {
     "data": {
      "image/png": "[encoded data removed]",
      "text/plain": [
       "<Figure size 640x480 with 1 Axes>"
      ]
     },
     "metadata": {},
     "output_type": "display_data"
    }
   ],
   "source": [
    "plt.plot(y_test.values, label='Actual', color='red')\n",
    "plt.plot(y_pred_rfr, label='RF Prediction', color='green')\n",
    "plt.show()"
   ]
  },
  {
   "cell_type": "markdown",
   "metadata": {
    "id": "4LF1v6lbjcGL"
   },
   "source": [
    "### Boosting"
   ]
  },
  {
   "cell_type": "markdown",
   "metadata": {
    "id": "VpuBInwyjkRr"
   },
   "source": [
    "Create an instance of an XGBoost model and train it using the `fit` function."
   ]
  },
  {
   "cell_type": "code",
   "execution_count": 109,
   "metadata": {
    "id": "f7IPuXNMjb3K"
   },
   "outputs": [],
   "source": [
    "from xgboost import XGBRegressor\n",
    "model_xgb = XGBRegressor(n_estimators=100, learning_rate=0.01, max_depth=3)\n",
    "model_xgb.fit(X_train, y_train)\n",
    "\n",
    "y_pred_xgb=model_xgb.predict(X_test)"
   ]
  },
  {
   "cell_type": "markdown",
   "metadata": {
    "id": "30u245l0jnhE"
   },
   "source": [
    "Use the trained model to make predictions for the test set."
   ]
  },
  {
   "cell_type": "code",
   "execution_count": 110,
   "metadata": {
    "id": "ykXWljGFjnDr"
   },
   "outputs": [
    {
     "name": "stdout",
     "output_type": "stream",
     "text": [
      "XGBoost\n",
      "\n",
      "MSE: 15.688791348731185\n",
      "MAE: 3.4546576520332164\n",
      "R2 : 0.5102078052163387\n"
     ]
    }
   ],
   "source": [
    "mse_xgb = mean_squared_error(y_test,y_pred_xgb)\n",
    "mae_xgb = mean_absolute_error(y_test, y_pred_xgb)\n",
    "r2_xgb = r2_score(y_test, y_pred_xgb)\n",
    "print(f'XGBoost\\n')\n",
    "print(f'MSE: {mse_xgb}')\n",
    "print(f'MAE: {mae_xgb}')\n",
    "print(f'R2 : {r2_xgb}')"
   ]
  },
  {
   "cell_type": "markdown",
   "metadata": {
    "id": "UWnX_tVNjqGl"
   },
   "source": [
    "Assess the performance of the model by using different metrics provided by the `scikit-learn` library."
   ]
  },
  {
   "cell_type": "code",
   "execution_count": 111,
   "metadata": {
    "id": "FNFvmZ0Zjp1X"
   },
   "outputs": [
    {
     "data": {
      "image/png": "[encoded data removed]",
      "text/plain": [
       "<Figure size 640x480 with 1 Axes>"
      ]
     },
     "metadata": {},
     "output_type": "display_data"
    }
   ],
   "source": [
    "plt.plot(y_test.values,  color='red',label='Actual')\n",
    "plt.plot(y_pred_xgb, label='XGB Prediction', color='green')\n",
    "plt.show()"
   ]
  },
  {
   "cell_type": "markdown",
   "metadata": {
    "id": "RwnD_qSpIeXG"
   },
   "source": [
    "# Laboratory Exercise - Bonus Task (+ 2 points)"
   ]
  },
  {
   "cell_type": "markdown",
   "metadata": {
    "id": "lSTuVpyYd2is"
   },
   "source": [
    "As part of the bonus task in this laboratory assignment, your objective is to fine-tune the number of estimators (`n_estimators`) for the XGBoost model using a cross-validation with grid search and time series split. This involves systematically experimenting with various values for `n_estimators` and evaluating the model's performance using cross-validation. Upon determining the most suitable `n_estimators` value, evaluate the model's performance on a test set for final assessment.\n",
    "\n",
    "Hints:\n",
    "- For grid search use the `GridCVSearch` from the `scikit-learn` library. Check the documentation at https://scikit-learn.org/stable/modules/generated/sklearn.model_selection.GridSearchCV.html.\n",
    "- For cross-validation use the `TimeSeriesSplit` from the `scikit-learn` library. Check the documentation at https://scikit-learn.org/stable/modules/generated/sklearn.model_selection.TimeSeriesSplit.html."
   ]
  },
  {
   "cell_type": "markdown",
   "metadata": {
    "id": "yZriA4d4eWLJ"
   },
   "source": [
    "## Dataset Splitting\n",
    "Partition the dataset into training and testing sets with an 90:10 ratio.\n",
    "\n",
    "**WARNING: DO NOT SHUFFLE THE DATASET.**"
   ]
  },
  {
   "cell_type": "code",
   "execution_count": 113,
   "metadata": {
    "id": "ile-T3vmIfsm"
   },
   "outputs": [
    {
     "data": {
      "text/html": [
       "<style>#sk-container-id-1 {\n",
       "  /* Definition of color scheme common for light and dark mode */\n",
       "  --sklearn-color-text: black;\n",
       "  --sklearn-color-line: gray;\n",
       "  /* Definition of color scheme for unfitted estimators */\n",
       "  --sklearn-color-unfitted-level-0: #fff5e6;\n",
       "  --sklearn-color-unfitted-level-1: #f6e4d2;\n",
       "  --sklearn-color-unfitted-level-2: #ffe0b3;\n",
       "  --sklearn-color-unfitted-level-3: chocolate;\n",
       "  /* Definition of color scheme for fitted estimators */\n",
       "  --sklearn-color-fitted-level-0: #f0f8ff;\n",
       "  --sklearn-color-fitted-level-1: #d4ebff;\n",
       "  --sklearn-color-fitted-level-2: #b3dbfd;\n",
       "  --sklearn-color-fitted-level-3: cornflowerblue;\n",
       "\n",
       "  /* Specific color for light theme */\n",
       "  --sklearn-color-text-on-default-background: var(--sg-text-color, var(--theme-code-foreground, var(--jp-content-font-color1, black)));\n",
       "  --sklearn-color-background: var(--sg-background-color, var(--theme-background, var(--jp-layout-color0, white)));\n",
       "  --sklearn-color-border-box: var(--sg-text-color, var(--theme-code-foreground, var(--jp-content-font-color1, black)));\n",
       "  --sklearn-color-icon: #696969;\n",
       "\n",
       "  @media (prefers-color-scheme: dark) {\n",
       "    /* Redefinition of color scheme for dark theme */\n",
       "    --sklearn-color-text-on-default-background: var(--sg-text-color, var(--theme-code-foreground, var(--jp-content-font-color1, white)));\n",
       "    --sklearn-color-background: var(--sg-background-color, var(--theme-background, var(--jp-layout-color0, #111)));\n",
       "    --sklearn-color-border-box: var(--sg-text-color, var(--theme-code-foreground, var(--jp-content-font-color1, white)));\n",
       "    --sklearn-color-icon: #878787;\n",
       "  }\n",
       "}\n",
       "\n",
       "#sk-container-id-1 {\n",
       "  color: var(--sklearn-color-text);\n",
       "}\n",
       "\n",
       "#sk-container-id-1 pre {\n",
       "  padding: 0;\n",
       "}\n",
       "\n",
       "#sk-container-id-1 input.sk-hidden--visually {\n",
       "  border: 0;\n",
       "  clip: rect(1px 1px 1px 1px);\n",
       "  clip: rect(1px, 1px, 1px, 1px);\n",
       "  height: 1px;\n",
       "  margin: -1px;\n",
       "  overflow: hidden;\n",
       "  padding: 0;\n",
       "  position: absolute;\n",
       "  width: 1px;\n",
       "}\n",
       "\n",
       "#sk-container-id-1 div.sk-dashed-wrapped {\n",
       "  border: 1px dashed var(--sklearn-color-line);\n",
       "  margin: 0 0.4em 0.5em 0.4em;\n",
       "  box-sizing: border-box;\n",
       "  padding-bottom: 0.4em;\n",
       "  background-color: var(--sklearn-color-background);\n",
       "}\n",
       "\n",
       "#sk-container-id-1 div.sk-container {\n",
       "  /* jupyter's `normalize.less` sets `[hidden] { display: none; }`\n",
       "     but bootstrap.min.css set `[hidden] { display: none !important; }`\n",
       "     so we also need the `!important` here to be able to override the\n",
       "     default hidden behavior on the sphinx rendered scikit-learn.org.\n",
       "     See: https://github.com/scikit-learn/scikit-learn/issues/21755 */\n",
       "  display: inline-block !important;\n",
       "  position: relative;\n",
       "}\n",
       "\n",
       "#sk-container-id-1 div.sk-text-repr-fallback {\n",
       "  display: none;\n",
       "}\n",
       "\n",
       "div.sk-parallel-item,\n",
       "div.sk-serial,\n",
       "div.sk-item {\n",
       "  /* draw centered vertical line to link estimators */\n",
       "  background-image: linear-gradient(var(--sklearn-color-text-on-default-background), var(--sklearn-color-text-on-default-background));\n",
       "  background-size: 2px 100%;\n",
       "  background-repeat: no-repeat;\n",
       "  background-position: center center;\n",
       "}\n",
       "\n",
       "/* Parallel-specific style estimator block */\n",
       "\n",
       "#sk-container-id-1 div.sk-parallel-item::after {\n",
       "  content: \"\";\n",
       "  width: 100%;\n",
       "  border-bottom: 2px solid var(--sklearn-color-text-on-default-background);\n",
       "  flex-grow: 1;\n",
       "}\n",
       "\n",
       "#sk-container-id-1 div.sk-parallel {\n",
       "  display: flex;\n",
       "  align-items: stretch;\n",
       "  justify-content: center;\n",
       "  background-color: var(--sklearn-color-background);\n",
       "  position: relative;\n",
       "}\n",
       "\n",
       "#sk-container-id-1 div.sk-parallel-item {\n",
       "  display: flex;\n",
       "  flex-direction: column;\n",
       "}\n",
       "\n",
       "#sk-container-id-1 div.sk-parallel-item:first-child::after {\n",
       "  align-self: flex-end;\n",
       "  width: 50%;\n",
       "}\n",
       "\n",
       "#sk-container-id-1 div.sk-parallel-item:last-child::after {\n",
       "  align-self: flex-start;\n",
       "  width: 50%;\n",
       "}\n",
       "\n",
       "#sk-container-id-1 div.sk-parallel-item:only-child::after {\n",
       "  width: 0;\n",
       "}\n",
       "\n",
       "/* Serial-specific style estimator block */\n",
       "\n",
       "#sk-container-id-1 div.sk-serial {\n",
       "  display: flex;\n",
       "  flex-direction: column;\n",
       "  align-items: center;\n",
       "  background-color: var(--sklearn-color-background);\n",
       "  padding-right: 1em;\n",
       "  padding-left: 1em;\n",
       "}\n",
       "\n",
       "\n",
       "/* Toggleable style: style used for estimator/Pipeline/ColumnTransformer box that is\n",
       "clickable and can be expanded/collapsed.\n",
       "- Pipeline and ColumnTransformer use this feature and define the default style\n",
       "- Estimators will overwrite some part of the style using the `sk-estimator` class\n",
       "*/\n",
       "\n",
       "/* Pipeline and ColumnTransformer style (default) */\n",
       "\n",
       "#sk-container-id-1 div.sk-toggleable {\n",
       "  /* Default theme specific background. It is overwritten whether we have a\n",
       "  specific estimator or a Pipeline/ColumnTransformer */\n",
       "  background-color: var(--sklearn-color-background);\n",
       "}\n",
       "\n",
       "/* Toggleable label */\n",
       "#sk-container-id-1 label.sk-toggleable__label {\n",
       "  cursor: pointer;\n",
       "  display: block;\n",
       "  width: 100%;\n",
       "  margin-bottom: 0;\n",
       "  padding: 0.5em;\n",
       "  box-sizing: border-box;\n",
       "  text-align: center;\n",
       "}\n",
       "\n",
       "#sk-container-id-1 label.sk-toggleable__label-arrow:before {\n",
       "  /* Arrow on the left of the label */\n",
       "  content: \"▸\";\n",
       "  float: left;\n",
       "  margin-right: 0.25em;\n",
       "  color: var(--sklearn-color-icon);\n",
       "}\n",
       "\n",
       "#sk-container-id-1 label.sk-toggleable__label-arrow:hover:before {\n",
       "  color: var(--sklearn-color-text);\n",
       "}\n",
       "\n",
       "/* Toggleable content - dropdown */\n",
       "\n",
       "#sk-container-id-1 div.sk-toggleable__content {\n",
       "  max-height: 0;\n",
       "  max-width: 0;\n",
       "  overflow: hidden;\n",
       "  text-align: left;\n",
       "  /* unfitted */\n",
       "  background-color: var(--sklearn-color-unfitted-level-0);\n",
       "}\n",
       "\n",
       "#sk-container-id-1 div.sk-toggleable__content.fitted {\n",
       "  /* fitted */\n",
       "  background-color: var(--sklearn-color-fitted-level-0);\n",
       "}\n",
       "\n",
       "#sk-container-id-1 div.sk-toggleable__content pre {\n",
       "  margin: 0.2em;\n",
       "  border-radius: 0.25em;\n",
       "  color: var(--sklearn-color-text);\n",
       "  /* unfitted */\n",
       "  background-color: var(--sklearn-color-unfitted-level-0);\n",
       "}\n",
       "\n",
       "#sk-container-id-1 div.sk-toggleable__content.fitted pre {\n",
       "  /* unfitted */\n",
       "  background-color: var(--sklearn-color-fitted-level-0);\n",
       "}\n",
       "\n",
       "#sk-container-id-1 input.sk-toggleable__control:checked~div.sk-toggleable__content {\n",
       "  /* Expand drop-down */\n",
       "  max-height: 200px;\n",
       "  max-width: 100%;\n",
       "  overflow: auto;\n",
       "}\n",
       "\n",
       "#sk-container-id-1 input.sk-toggleable__control:checked~label.sk-toggleable__label-arrow:before {\n",
       "  content: \"▾\";\n",
       "}\n",
       "\n",
       "/* Pipeline/ColumnTransformer-specific style */\n",
       "\n",
       "#sk-container-id-1 div.sk-label input.sk-toggleable__control:checked~label.sk-toggleable__label {\n",
       "  color: var(--sklearn-color-text);\n",
       "  background-color: var(--sklearn-color-unfitted-level-2);\n",
       "}\n",
       "\n",
       "#sk-container-id-1 div.sk-label.fitted input.sk-toggleable__control:checked~label.sk-toggleable__label {\n",
       "  background-color: var(--sklearn-color-fitted-level-2);\n",
       "}\n",
       "\n",
       "/* Estimator-specific style */\n",
       "\n",
       "/* Colorize estimator box */\n",
       "#sk-container-id-1 div.sk-estimator input.sk-toggleable__control:checked~label.sk-toggleable__label {\n",
       "  /* unfitted */\n",
       "  background-color: var(--sklearn-color-unfitted-level-2);\n",
       "}\n",
       "\n",
       "#sk-container-id-1 div.sk-estimator.fitted input.sk-toggleable__control:checked~label.sk-toggleable__label {\n",
       "  /* fitted */\n",
       "  background-color: var(--sklearn-color-fitted-level-2);\n",
       "}\n",
       "\n",
       "#sk-container-id-1 div.sk-label label.sk-toggleable__label,\n",
       "#sk-container-id-1 div.sk-label label {\n",
       "  /* The background is the default theme color */\n",
       "  color: var(--sklearn-color-text-on-default-background);\n",
       "}\n",
       "\n",
       "/* On hover, darken the color of the background */\n",
       "#sk-container-id-1 div.sk-label:hover label.sk-toggleable__label {\n",
       "  color: var(--sklearn-color-text);\n",
       "  background-color: var(--sklearn-color-unfitted-level-2);\n",
       "}\n",
       "\n",
       "/* Label box, darken color on hover, fitted */\n",
       "#sk-container-id-1 div.sk-label.fitted:hover label.sk-toggleable__label.fitted {\n",
       "  color: var(--sklearn-color-text);\n",
       "  background-color: var(--sklearn-color-fitted-level-2);\n",
       "}\n",
       "\n",
       "/* Estimator label */\n",
       "\n",
       "#sk-container-id-1 div.sk-label label {\n",
       "  font-family: monospace;\n",
       "  font-weight: bold;\n",
       "  display: inline-block;\n",
       "  line-height: 1.2em;\n",
       "}\n",
       "\n",
       "#sk-container-id-1 div.sk-label-container {\n",
       "  text-align: center;\n",
       "}\n",
       "\n",
       "/* Estimator-specific */\n",
       "#sk-container-id-1 div.sk-estimator {\n",
       "  font-family: monospace;\n",
       "  border: 1px dotted var(--sklearn-color-border-box);\n",
       "  border-radius: 0.25em;\n",
       "  box-sizing: border-box;\n",
       "  margin-bottom: 0.5em;\n",
       "  /* unfitted */\n",
       "  background-color: var(--sklearn-color-unfitted-level-0);\n",
       "}\n",
       "\n",
       "#sk-container-id-1 div.sk-estimator.fitted {\n",
       "  /* fitted */\n",
       "  background-color: var(--sklearn-color-fitted-level-0);\n",
       "}\n",
       "\n",
       "/* on hover */\n",
       "#sk-container-id-1 div.sk-estimator:hover {\n",
       "  /* unfitted */\n",
       "  background-color: var(--sklearn-color-unfitted-level-2);\n",
       "}\n",
       "\n",
       "#sk-container-id-1 div.sk-estimator.fitted:hover {\n",
       "  /* fitted */\n",
       "  background-color: var(--sklearn-color-fitted-level-2);\n",
       "}\n",
       "\n",
       "/* Specification for estimator info (e.g. \"i\" and \"?\") */\n",
       "\n",
       "/* Common style for \"i\" and \"?\" */\n",
       "\n",
       ".sk-estimator-doc-link,\n",
       "a:link.sk-estimator-doc-link,\n",
       "a:visited.sk-estimator-doc-link {\n",
       "  float: right;\n",
       "  font-size: smaller;\n",
       "  line-height: 1em;\n",
       "  font-family: monospace;\n",
       "  background-color: var(--sklearn-color-background);\n",
       "  border-radius: 1em;\n",
       "  height: 1em;\n",
       "  width: 1em;\n",
       "  text-decoration: none !important;\n",
       "  margin-left: 1ex;\n",
       "  /* unfitted */\n",
       "  border: var(--sklearn-color-unfitted-level-1) 1pt solid;\n",
       "  color: var(--sklearn-color-unfitted-level-1);\n",
       "}\n",
       "\n",
       ".sk-estimator-doc-link.fitted,\n",
       "a:link.sk-estimator-doc-link.fitted,\n",
       "a:visited.sk-estimator-doc-link.fitted {\n",
       "  /* fitted */\n",
       "  border: var(--sklearn-color-fitted-level-1) 1pt solid;\n",
       "  color: var(--sklearn-color-fitted-level-1);\n",
       "}\n",
       "\n",
       "/* On hover */\n",
       "div.sk-estimator:hover .sk-estimator-doc-link:hover,\n",
       ".sk-estimator-doc-link:hover,\n",
       "div.sk-label-container:hover .sk-estimator-doc-link:hover,\n",
       ".sk-estimator-doc-link:hover {\n",
       "  /* unfitted */\n",
       "  background-color: var(--sklearn-color-unfitted-level-3);\n",
       "  color: var(--sklearn-color-background);\n",
       "  text-decoration: none;\n",
       "}\n",
       "\n",
       "div.sk-estimator.fitted:hover .sk-estimator-doc-link.fitted:hover,\n",
       ".sk-estimator-doc-link.fitted:hover,\n",
       "div.sk-label-container:hover .sk-estimator-doc-link.fitted:hover,\n",
       ".sk-estimator-doc-link.fitted:hover {\n",
       "  /* fitted */\n",
       "  background-color: var(--sklearn-color-fitted-level-3);\n",
       "  color: var(--sklearn-color-background);\n",
       "  text-decoration: none;\n",
       "}\n",
       "\n",
       "/* Span, style for the box shown on hovering the info icon */\n",
       ".sk-estimator-doc-link span {\n",
       "  display: none;\n",
       "  z-index: 9999;\n",
       "  position: relative;\n",
       "  font-weight: normal;\n",
       "  right: .2ex;\n",
       "  padding: .5ex;\n",
       "  margin: .5ex;\n",
       "  width: min-content;\n",
       "  min-width: 20ex;\n",
       "  max-width: 50ex;\n",
       "  color: var(--sklearn-color-text);\n",
       "  box-shadow: 2pt 2pt 4pt #999;\n",
       "  /* unfitted */\n",
       "  background: var(--sklearn-color-unfitted-level-0);\n",
       "  border: .5pt solid var(--sklearn-color-unfitted-level-3);\n",
       "}\n",
       "\n",
       ".sk-estimator-doc-link.fitted span {\n",
       "  /* fitted */\n",
       "  background: var(--sklearn-color-fitted-level-0);\n",
       "  border: var(--sklearn-color-fitted-level-3);\n",
       "}\n",
       "\n",
       ".sk-estimator-doc-link:hover span {\n",
       "  display: block;\n",
       "}\n",
       "\n",
       "/* \"?\"-specific style due to the `<a>` HTML tag */\n",
       "\n",
       "#sk-container-id-1 a.estimator_doc_link {\n",
       "  float: right;\n",
       "  font-size: 1rem;\n",
       "  line-height: 1em;\n",
       "  font-family: monospace;\n",
       "  background-color: var(--sklearn-color-background);\n",
       "  border-radius: 1rem;\n",
       "  height: 1rem;\n",
       "  width: 1rem;\n",
       "  text-decoration: none;\n",
       "  /* unfitted */\n",
       "  color: var(--sklearn-color-unfitted-level-1);\n",
       "  border: var(--sklearn-color-unfitted-level-1) 1pt solid;\n",
       "}\n",
       "\n",
       "#sk-container-id-1 a.estimator_doc_link.fitted {\n",
       "  /* fitted */\n",
       "  border: var(--sklearn-color-fitted-level-1) 1pt solid;\n",
       "  color: var(--sklearn-color-fitted-level-1);\n",
       "}\n",
       "\n",
       "/* On hover */\n",
       "#sk-container-id-1 a.estimator_doc_link:hover {\n",
       "  /* unfitted */\n",
       "  background-color: var(--sklearn-color-unfitted-level-3);\n",
       "  color: var(--sklearn-color-background);\n",
       "  text-decoration: none;\n",
       "}\n",
       "\n",
       "#sk-container-id-1 a.estimator_doc_link.fitted:hover {\n",
       "  /* fitted */\n",
       "  background-color: var(--sklearn-color-fitted-level-3);\n",
       "}\n",
       "</style><div id=\"sk-container-id-1\" class=\"sk-top-container\"><div class=\"sk-text-repr-fallback\"><pre>GridSearchCV(cv=TimeSeriesSplit(gap=0, max_train_size=None, n_splits=5, test_size=None),\n",
       "             estimator=RandomForestRegressor(),\n",
       "             param_grid={&#x27;max_depth&#x27;: [5, 10, 15, 20],\n",
       "                         &#x27;min_samples_split&#x27;: [2, 5],\n",
       "                         &#x27;n_estimators&#x27;: [100, 200]},\n",
       "             scoring=&#x27;neg_mean_squared_error&#x27;)</pre><b>In a Jupyter environment, please rerun this cell to show the HTML representation or trust the notebook. <br />On GitHub, the HTML representation is unable to render, please try loading this page with nbviewer.org.</b></div><div class=\"sk-container\" hidden><div class=\"sk-item sk-dashed-wrapped\"><div class=\"sk-label-container\"><div class=\"sk-label fitted sk-toggleable\"><input class=\"sk-toggleable__control sk-hidden--visually\" id=\"sk-estimator-id-1\" type=\"checkbox\" ><label for=\"sk-estimator-id-1\" class=\"sk-toggleable__label fitted sk-toggleable__label-arrow fitted\">&nbsp;&nbsp;GridSearchCV<a class=\"sk-estimator-doc-link fitted\" rel=\"noreferrer\" target=\"_blank\" href=\"https://scikit-learn.org/1.5/modules/generated/sklearn.model_selection.GridSearchCV.html\">?<span>Documentation for GridSearchCV</span></a><span class=\"sk-estimator-doc-link fitted\">i<span>Fitted</span></span></label><div class=\"sk-toggleable__content fitted\"><pre>GridSearchCV(cv=TimeSeriesSplit(gap=0, max_train_size=None, n_splits=5, test_size=None),\n",
       "             estimator=RandomForestRegressor(),\n",
       "             param_grid={&#x27;max_depth&#x27;: [5, 10, 15, 20],\n",
       "                         &#x27;min_samples_split&#x27;: [2, 5],\n",
       "                         &#x27;n_estimators&#x27;: [100, 200]},\n",
       "             scoring=&#x27;neg_mean_squared_error&#x27;)</pre></div> </div></div><div class=\"sk-parallel\"><div class=\"sk-parallel-item\"><div class=\"sk-item\"><div class=\"sk-label-container\"><div class=\"sk-label fitted sk-toggleable\"><input class=\"sk-toggleable__control sk-hidden--visually\" id=\"sk-estimator-id-2\" type=\"checkbox\" ><label for=\"sk-estimator-id-2\" class=\"sk-toggleable__label fitted sk-toggleable__label-arrow fitted\">best_estimator_: RandomForestRegressor</label><div class=\"sk-toggleable__content fitted\"><pre>RandomForestRegressor(max_depth=15, min_samples_split=5)</pre></div> </div></div><div class=\"sk-serial\"><div class=\"sk-item\"><div class=\"sk-estimator fitted sk-toggleable\"><input class=\"sk-toggleable__control sk-hidden--visually\" id=\"sk-estimator-id-3\" type=\"checkbox\" ><label for=\"sk-estimator-id-3\" class=\"sk-toggleable__label fitted sk-toggleable__label-arrow fitted\">&nbsp;RandomForestRegressor<a class=\"sk-estimator-doc-link fitted\" rel=\"noreferrer\" target=\"_blank\" href=\"https://scikit-learn.org/1.5/modules/generated/sklearn.ensemble.RandomForestRegressor.html\">?<span>Documentation for RandomForestRegressor</span></a></label><div class=\"sk-toggleable__content fitted\"><pre>RandomForestRegressor(max_depth=15, min_samples_split=5)</pre></div> </div></div></div></div></div></div></div></div></div>"
      ],
      "text/plain": [
       "GridSearchCV(cv=TimeSeriesSplit(gap=0, max_train_size=None, n_splits=5, test_size=None),\n",
       "             estimator=RandomForestRegressor(),\n",
       "             param_grid={'max_depth': [5, 10, 15, 20],\n",
       "                         'min_samples_split': [2, 5],\n",
       "                         'n_estimators': [100, 200]},\n",
       "             scoring='neg_mean_squared_error')"
      ]
     },
     "execution_count": 113,
     "metadata": {},
     "output_type": "execute_result"
    }
   ],
   "source": [
    "from sklearn.model_selection import GridSearchCV, TimeSeriesSplit\n",
    "model = RandomForestRegressor(criterion='squared_error')\n",
    "param_grid = {\n",
    "    'max_depth': [5,10,15,20],\n",
    "    'n_estimators': [100,200],\n",
    "    'min_samples_split':[2,5]\n",
    "}\n",
    "tscv = TimeSeriesSplit(n_splits =5)\n",
    "grid_search = GridSearchCV(estimator=model, param_grid=param_grid, cv=tscv, scoring='neg_mean_squared_error')\n",
    "grid_search.fit(X_train, y_train)"
   ]
  },
  {
   "cell_type": "code",
   "execution_count": 112,
   "metadata": {
    "id": "ile-T3vmIfsm"
   },
   "outputs": [],
   "source": [
    "X_train, X_test, y_train, y_test = train_test_split(X,y, test_size=0.1, shuffle=False)"
   ]
  },
  {
   "cell_type": "markdown",
   "metadata": {
    "id": "E9myidoNgjmy"
   },
   "source": [
    "## Fine-tuning the XGBoost Hyperparameter\n",
    "Experiment with various values for `n_estimators` and evaluate the model's performance using cross-validation."
   ]
  },
  {
   "cell_type": "code",
   "execution_count": 114,
   "metadata": {
    "id": "Vb5WJwEggm1f"
   },
   "outputs": [
    {
     "name": "stdout",
     "output_type": "stream",
     "text": [
      "Best max_depth: 15\n",
      "Mean Squared Error: 6.42571779202596\n",
      "Mean Absolute Error: 1.8625243432625418\n",
      "R2 : 0.8026678071142671\n"
     ]
    }
   ],
   "source": [
    "best_model = grid_search.best_estimator_\n",
    "y_pred = best_model.predict(X_test)\n",
    "mse = mean_squared_error(y_test, y_pred)\n",
    "mae = mean_absolute_error(y_test, y_pred)\n",
    "r2 = r2_score(y_test, y_pred)\n",
    "print(f\"Best max_depth: {grid_search.best_params_['max_depth']}\")\n",
    "print(f\"Mean Squared Error: {mse}\")\n",
    "print(f'Mean Absolute Error: {mae}')\n",
    "print(f'R2 : {r2}')"
   ]
  },
  {
   "cell_type": "markdown",
   "metadata": {
    "id": "OzxTQJABiWAp"
   },
   "source": [
    "## Final Assessment of the Model Performance\n",
    "Upon determining the most suitable `n_estimators` value, evaluate the model's performance on a test set for final assessment."
   ]
  },
  {
   "cell_type": "code",
   "execution_count": 115,
   "metadata": {
    "id": "oK__muPhicCr"
   },
   "outputs": [
    {
     "data": {
      "image/png": "[encoded data removed]",
      "text/plain": [
       "<Figure size 640x480 with 1 Axes>"
      ]
     },
     "metadata": {},
     "output_type": "display_data"
    }
   ],
   "source": [
    "plt.plot(y_test.values, label='Actual', color='red')\n",
    "plt.plot(y_pred, label='RF Prediction', color='green')\n",
    "plt.show()"
   ]
  }
 ],
 "metadata": {
  "colab": {
   "provenance": []
  },
  "kernelspec": {
   "display_name": "Python 3 (ipykernel)",
   "language": "python",
   "name": "python3"
  },
  "language_info": {
   "codemirror_mode": {
    "name": "ipython",
    "version": 3
   },
   "file_extension": ".py",
   "mimetype": "text/x-python",
   "name": "python",
   "nbconvert_exporter": "python",
   "pygments_lexer": "ipython3",
   "version": "3.12.2"
  }
 },
 "nbformat": 4,
 "nbformat_minor": 4
}
