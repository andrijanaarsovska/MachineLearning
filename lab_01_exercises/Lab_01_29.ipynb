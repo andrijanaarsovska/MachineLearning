{
 "cells": [
  {
   "cell_type": "markdown",
   "metadata": {
    "id": "IG0xXF7T0x2h"
   },
   "source": [
    "# Requirements"
   ]
  },
  {
   "cell_type": "code",
   "execution_count": 1,
   "metadata": {
    "id": "k75Qsxvc0zzZ"
   },
   "outputs": [],
   "source": [
    "from selenium import webdriver\n",
    "from selenium.webdriver.common.by import By\n",
    "import pandas as pd"
   ]
  },
  {
   "cell_type": "markdown",
   "metadata": {
    "id": "OqXF3IZU00_g"
   },
   "source": [
    "# Configuration"
   ]
  },
  {
   "cell_type": "code",
   "execution_count": 2,
   "metadata": {
    "id": "2MLM03DJ02TK"
   },
   "outputs": [],
   "source": [
    "options = webdriver.ChromeOptions()\n",
    "options.add_argument('--headless')\n",
    "options.add_argument('--no-sandbox')\n",
    "options.add_argument('--disable-dev-shm-usage')"
   ]
  },
  {
   "cell_type": "markdown",
   "metadata": {
    "id": "vhsS7FZU03uf"
   },
   "source": [
    "# Simple Usage"
   ]
  },
  {
   "cell_type": "code",
   "execution_count": 6,
   "metadata": {
    "id": "XAR-vEvw03hB"
   },
   "outputs": [],
   "source": [
    "# Initialize the webdriver.\n",
    "browser = webdriver.Chrome(options=options)"
   ]
  },
  {
   "cell_type": "code",
   "execution_count": null,
   "metadata": {
    "id": "SRlMjKmz05uN"
   },
   "outputs": [],
   "source": [
    "# Navigate to a web page.\n",
    "browser.get('https://www.apple.com/mk/')"
   ]
  },
  {
   "cell_type": "code",
   "execution_count": null,
   "metadata": {
    "id": "XENkqBtc07ql"
   },
   "outputs": [],
   "source": [
    "# Print the page source code.\n",
    "print(browser.page_source)"
   ]
  },
  {
   "cell_type": "code",
   "execution_count": null,
   "metadata": {
    "id": "j2IK2Ka408sg"
   },
   "outputs": [],
   "source": [
    "# Select an element from the page.\n",
    "element = browser.find_element(By.CLASS_NAME, 'headline')"
   ]
  },
  {
   "cell_type": "code",
   "execution_count": null,
   "metadata": {
    "id": "ErxN591d09ul"
   },
   "outputs": [],
   "source": [
    "# Print the element's innner text.\n",
    "print(element.text)"
   ]
  },
  {
   "cell_type": "markdown",
   "metadata": {
    "id": "M9CVMKMx0-SY"
   },
   "source": [
    "# Laboratory Exercise - Run Mode (8 points)"
   ]
  },
  {
   "cell_type": "markdown",
   "metadata": {
    "id": "dGHA83FS1Lqk"
   },
   "source": [
    "In this laboratory assignment, the goal is to perform web scraping using **Selenium** on the website https://www.scrapethissite.com/pages/forms/. The task includes the extraction of **hockey team names** and their **wins** and **losses** in the respective **year** for a minimum of 25 hockey teams. Following this data extraction, you will construct a data frame to organize the collected data. Finally, you are expected to generate a histogram to provide a visual representation of the distribution of wins and losses in the year 1990."
   ]
  },
  {
   "cell_type": "markdown",
   "metadata": {
    "id": "TMBGzB374oRM"
   },
   "source": [
    "## Hints\n",
    "- To navigate to a specific page with a given URL, use the `browser.get(url)` method.\n",
    "- When selecting a single element, use `browser.find_element`, and for multiple elements, use `browser.find_elements`. Both of these functions take two arguments. The first specifies the attribute used to locate the element on the web page, and the second specifies the value of that attribute.\n",
    "- The `By` class is used to specify which attribute is used to locate elements on a page. These are the various ways the attributes are used to locate elements on a page: `By.ID`, `By.NAME`, `By.TAG_NAME`, `BY.CLASS_NAME`, `By.CSS_SELECTOR`, etc.\n",
    "- For more details, check the documentation (https://selenium-python.readthedocs.io/locating-elements.html)."
   ]
  },
  {
   "cell_type": "markdown",
   "metadata": {
    "id": "MOV5K_ji5iQi"
   },
   "source": [
    "## Solution"
   ]
  },
  {
   "cell_type": "code",
   "execution_count": null,
   "metadata": {
    "id": "Naeba0l31AVU"
   },
   "outputs": [],
   "source": [
    "# Write your code here."
   ]
  },
  {
   "cell_type": "code",
   "execution_count": 4,
   "metadata": {},
   "outputs": [],
   "source": [
    "url = \" https://www.scrapethissite.com/pages/forms/\""
   ]
  },
  {
   "cell_type": "code",
   "execution_count": 7,
   "metadata": {},
   "outputs": [],
   "source": [
    "browser.get(url)"
   ]
  },
  {
   "cell_type": "code",
   "execution_count": 42,
   "metadata": {},
   "outputs": [],
   "source": [
    "all_teams =  browser.find_elements(By.CLASS_NAME, \"table\")"
   ]
  },
  {
   "cell_type": "code",
   "execution_count": 36,
   "metadata": {},
   "outputs": [
    {
     "data": {
      "text/plain": [
       "[<selenium.webdriver.remote.webelement.WebElement (session=\"009826225c9af65a91f464a498118213\", element=\"f.04D0A341CC9D6668B436757CFD0B9543.d.A8FBF0A050DB4FB0D996347F700D3D0F.e.24\")>,\n",
       " <selenium.webdriver.remote.webelement.WebElement (session=\"009826225c9af65a91f464a498118213\", element=\"f.04D0A341CC9D6668B436757CFD0B9543.d.A8FBF0A050DB4FB0D996347F700D3D0F.e.25\")>,\n",
       " <selenium.webdriver.remote.webelement.WebElement (session=\"009826225c9af65a91f464a498118213\", element=\"f.04D0A341CC9D6668B436757CFD0B9543.d.A8FBF0A050DB4FB0D996347F700D3D0F.e.26\")>,\n",
       " <selenium.webdriver.remote.webelement.WebElement (session=\"009826225c9af65a91f464a498118213\", element=\"f.04D0A341CC9D6668B436757CFD0B9543.d.A8FBF0A050DB4FB0D996347F700D3D0F.e.27\")>,\n",
       " <selenium.webdriver.remote.webelement.WebElement (session=\"009826225c9af65a91f464a498118213\", element=\"f.04D0A341CC9D6668B436757CFD0B9543.d.A8FBF0A050DB4FB0D996347F700D3D0F.e.28\")>,\n",
       " <selenium.webdriver.remote.webelement.WebElement (session=\"009826225c9af65a91f464a498118213\", element=\"f.04D0A341CC9D6668B436757CFD0B9543.d.A8FBF0A050DB4FB0D996347F700D3D0F.e.29\")>,\n",
       " <selenium.webdriver.remote.webelement.WebElement (session=\"009826225c9af65a91f464a498118213\", element=\"f.04D0A341CC9D6668B436757CFD0B9543.d.A8FBF0A050DB4FB0D996347F700D3D0F.e.30\")>,\n",
       " <selenium.webdriver.remote.webelement.WebElement (session=\"009826225c9af65a91f464a498118213\", element=\"f.04D0A341CC9D6668B436757CFD0B9543.d.A8FBF0A050DB4FB0D996347F700D3D0F.e.31\")>,\n",
       " <selenium.webdriver.remote.webelement.WebElement (session=\"009826225c9af65a91f464a498118213\", element=\"f.04D0A341CC9D6668B436757CFD0B9543.d.A8FBF0A050DB4FB0D996347F700D3D0F.e.32\")>,\n",
       " <selenium.webdriver.remote.webelement.WebElement (session=\"009826225c9af65a91f464a498118213\", element=\"f.04D0A341CC9D6668B436757CFD0B9543.d.A8FBF0A050DB4FB0D996347F700D3D0F.e.33\")>,\n",
       " <selenium.webdriver.remote.webelement.WebElement (session=\"009826225c9af65a91f464a498118213\", element=\"f.04D0A341CC9D6668B436757CFD0B9543.d.A8FBF0A050DB4FB0D996347F700D3D0F.e.34\")>,\n",
       " <selenium.webdriver.remote.webelement.WebElement (session=\"009826225c9af65a91f464a498118213\", element=\"f.04D0A341CC9D6668B436757CFD0B9543.d.A8FBF0A050DB4FB0D996347F700D3D0F.e.35\")>,\n",
       " <selenium.webdriver.remote.webelement.WebElement (session=\"009826225c9af65a91f464a498118213\", element=\"f.04D0A341CC9D6668B436757CFD0B9543.d.A8FBF0A050DB4FB0D996347F700D3D0F.e.36\")>,\n",
       " <selenium.webdriver.remote.webelement.WebElement (session=\"009826225c9af65a91f464a498118213\", element=\"f.04D0A341CC9D6668B436757CFD0B9543.d.A8FBF0A050DB4FB0D996347F700D3D0F.e.37\")>,\n",
       " <selenium.webdriver.remote.webelement.WebElement (session=\"009826225c9af65a91f464a498118213\", element=\"f.04D0A341CC9D6668B436757CFD0B9543.d.A8FBF0A050DB4FB0D996347F700D3D0F.e.38\")>,\n",
       " <selenium.webdriver.remote.webelement.WebElement (session=\"009826225c9af65a91f464a498118213\", element=\"f.04D0A341CC9D6668B436757CFD0B9543.d.A8FBF0A050DB4FB0D996347F700D3D0F.e.39\")>,\n",
       " <selenium.webdriver.remote.webelement.WebElement (session=\"009826225c9af65a91f464a498118213\", element=\"f.04D0A341CC9D6668B436757CFD0B9543.d.A8FBF0A050DB4FB0D996347F700D3D0F.e.40\")>,\n",
       " <selenium.webdriver.remote.webelement.WebElement (session=\"009826225c9af65a91f464a498118213\", element=\"f.04D0A341CC9D6668B436757CFD0B9543.d.A8FBF0A050DB4FB0D996347F700D3D0F.e.41\")>,\n",
       " <selenium.webdriver.remote.webelement.WebElement (session=\"009826225c9af65a91f464a498118213\", element=\"f.04D0A341CC9D6668B436757CFD0B9543.d.A8FBF0A050DB4FB0D996347F700D3D0F.e.42\")>,\n",
       " <selenium.webdriver.remote.webelement.WebElement (session=\"009826225c9af65a91f464a498118213\", element=\"f.04D0A341CC9D6668B436757CFD0B9543.d.A8FBF0A050DB4FB0D996347F700D3D0F.e.43\")>,\n",
       " <selenium.webdriver.remote.webelement.WebElement (session=\"009826225c9af65a91f464a498118213\", element=\"f.04D0A341CC9D6668B436757CFD0B9543.d.A8FBF0A050DB4FB0D996347F700D3D0F.e.44\")>,\n",
       " <selenium.webdriver.remote.webelement.WebElement (session=\"009826225c9af65a91f464a498118213\", element=\"f.04D0A341CC9D6668B436757CFD0B9543.d.A8FBF0A050DB4FB0D996347F700D3D0F.e.45\")>,\n",
       " <selenium.webdriver.remote.webelement.WebElement (session=\"009826225c9af65a91f464a498118213\", element=\"f.04D0A341CC9D6668B436757CFD0B9543.d.A8FBF0A050DB4FB0D996347F700D3D0F.e.46\")>,\n",
       " <selenium.webdriver.remote.webelement.WebElement (session=\"009826225c9af65a91f464a498118213\", element=\"f.04D0A341CC9D6668B436757CFD0B9543.d.A8FBF0A050DB4FB0D996347F700D3D0F.e.47\")>,\n",
       " <selenium.webdriver.remote.webelement.WebElement (session=\"009826225c9af65a91f464a498118213\", element=\"f.04D0A341CC9D6668B436757CFD0B9543.d.A8FBF0A050DB4FB0D996347F700D3D0F.e.48\")>]"
      ]
     },
     "execution_count": 36,
     "metadata": {},
     "output_type": "execute_result"
    }
   ],
   "source": [
    "all_teams"
   ]
  },
  {
   "cell_type": "code",
   "execution_count": 63,
   "metadata": {},
   "outputs": [],
   "source": [
    "names = browser.find_elements(By.CLASS_NAME, \"name\")\n",
    "years = browser.find_elements(By.CLASS_NAME, \"year\")\n",
    "wins = browser.find_elements(By.CLASS_NAME, \"wins\")\n",
    "losses = browser.find_elements(By.CLASS_NAME, \"losses\")"
   ]
  },
  {
   "cell_type": "code",
   "execution_count": 64,
   "metadata": {},
   "outputs": [],
   "source": [
    "teams = []\n",
    "\n",
    "for i in range(len(names)):\n",
    "    team_name = names[i].text\n",
    "    team_year = years[i].text\n",
    "    team_wins = wins[i].text\n",
    "    team_losses = losses[i].text\n",
    "    dict = {\n",
    "      \"Team Name\" : team_name,\n",
    "      \"Team Year\" : team_year,\n",
    "      \"Team Wins\" : team_wins,\n",
    "      \"Team Losses\" : team_losses\n",
    "    } \n",
    "    teams.append(dict)"
   ]
  },
  {
   "cell_type": "code",
   "execution_count": 65,
   "metadata": {},
   "outputs": [
    {
     "data": {
      "text/plain": [
       "[{'Team Name': 'Boston Bruins',\n",
       "  'Team Year': '1990',\n",
       "  'Team Wins': '44',\n",
       "  'Team Losses': '24'},\n",
       " {'Team Name': 'Buffalo Sabres',\n",
       "  'Team Year': '1990',\n",
       "  'Team Wins': '31',\n",
       "  'Team Losses': '30'},\n",
       " {'Team Name': 'Calgary Flames',\n",
       "  'Team Year': '1990',\n",
       "  'Team Wins': '46',\n",
       "  'Team Losses': '26'},\n",
       " {'Team Name': 'Chicago Blackhawks',\n",
       "  'Team Year': '1990',\n",
       "  'Team Wins': '49',\n",
       "  'Team Losses': '23'},\n",
       " {'Team Name': 'Detroit Red Wings',\n",
       "  'Team Year': '1990',\n",
       "  'Team Wins': '34',\n",
       "  'Team Losses': '38'},\n",
       " {'Team Name': 'Edmonton Oilers',\n",
       "  'Team Year': '1990',\n",
       "  'Team Wins': '37',\n",
       "  'Team Losses': '37'},\n",
       " {'Team Name': 'Hartford Whalers',\n",
       "  'Team Year': '1990',\n",
       "  'Team Wins': '31',\n",
       "  'Team Losses': '38'},\n",
       " {'Team Name': 'Los Angeles Kings',\n",
       "  'Team Year': '1990',\n",
       "  'Team Wins': '46',\n",
       "  'Team Losses': '24'},\n",
       " {'Team Name': 'Minnesota North Stars',\n",
       "  'Team Year': '1990',\n",
       "  'Team Wins': '27',\n",
       "  'Team Losses': '39'},\n",
       " {'Team Name': 'Montreal Canadiens',\n",
       "  'Team Year': '1990',\n",
       "  'Team Wins': '39',\n",
       "  'Team Losses': '30'},\n",
       " {'Team Name': 'New Jersey Devils',\n",
       "  'Team Year': '1990',\n",
       "  'Team Wins': '32',\n",
       "  'Team Losses': '33'},\n",
       " {'Team Name': 'New York Islanders',\n",
       "  'Team Year': '1990',\n",
       "  'Team Wins': '25',\n",
       "  'Team Losses': '45'},\n",
       " {'Team Name': 'New York Rangers',\n",
       "  'Team Year': '1990',\n",
       "  'Team Wins': '36',\n",
       "  'Team Losses': '31'},\n",
       " {'Team Name': 'Philadelphia Flyers',\n",
       "  'Team Year': '1990',\n",
       "  'Team Wins': '33',\n",
       "  'Team Losses': '37'},\n",
       " {'Team Name': 'Pittsburgh Penguins',\n",
       "  'Team Year': '1990',\n",
       "  'Team Wins': '41',\n",
       "  'Team Losses': '33'},\n",
       " {'Team Name': 'Quebec Nordiques',\n",
       "  'Team Year': '1990',\n",
       "  'Team Wins': '16',\n",
       "  'Team Losses': '50'},\n",
       " {'Team Name': 'St. Louis Blues',\n",
       "  'Team Year': '1990',\n",
       "  'Team Wins': '47',\n",
       "  'Team Losses': '22'},\n",
       " {'Team Name': 'Toronto Maple Leafs',\n",
       "  'Team Year': '1990',\n",
       "  'Team Wins': '23',\n",
       "  'Team Losses': '46'},\n",
       " {'Team Name': 'Vancouver Canucks',\n",
       "  'Team Year': '1990',\n",
       "  'Team Wins': '28',\n",
       "  'Team Losses': '43'},\n",
       " {'Team Name': 'Washington Capitals',\n",
       "  'Team Year': '1990',\n",
       "  'Team Wins': '37',\n",
       "  'Team Losses': '36'},\n",
       " {'Team Name': 'Winnipeg Jets',\n",
       "  'Team Year': '1990',\n",
       "  'Team Wins': '26',\n",
       "  'Team Losses': '43'},\n",
       " {'Team Name': 'Boston Bruins',\n",
       "  'Team Year': '1991',\n",
       "  'Team Wins': '36',\n",
       "  'Team Losses': '32'},\n",
       " {'Team Name': 'Buffalo Sabres',\n",
       "  'Team Year': '1991',\n",
       "  'Team Wins': '31',\n",
       "  'Team Losses': '37'},\n",
       " {'Team Name': 'Calgary Flames',\n",
       "  'Team Year': '1991',\n",
       "  'Team Wins': '31',\n",
       "  'Team Losses': '37'},\n",
       " {'Team Name': 'Chicago Blackhawks',\n",
       "  'Team Year': '1991',\n",
       "  'Team Wins': '36',\n",
       "  'Team Losses': '29'}]"
      ]
     },
     "execution_count": 65,
     "metadata": {},
     "output_type": "execute_result"
    }
   ],
   "source": [
    "teams"
   ]
  },
  {
   "cell_type": "code",
   "execution_count": 48,
   "metadata": {},
   "outputs": [],
   "source": [
    "import pandas as pd"
   ]
  },
  {
   "cell_type": "code",
   "execution_count": 49,
   "metadata": {},
   "outputs": [],
   "source": [
    "df = pd.DataFrame(teams)"
   ]
  },
  {
   "cell_type": "code",
   "execution_count": 50,
   "metadata": {
    "id": "PFK34b5R5c0N"
   },
   "outputs": [
    {
     "data": {
      "text/html": [
       "<div>\n",
       "<style scoped>\n",
       "    .dataframe tbody tr th:only-of-type {\n",
       "        vertical-align: middle;\n",
       "    }\n",
       "\n",
       "    .dataframe tbody tr th {\n",
       "        vertical-align: top;\n",
       "    }\n",
       "\n",
       "    .dataframe thead th {\n",
       "        text-align: right;\n",
       "    }\n",
       "</style>\n",
       "<table border=\"1\" class=\"dataframe\">\n",
       "  <thead>\n",
       "    <tr style=\"text-align: right;\">\n",
       "      <th></th>\n",
       "      <th>Team Name</th>\n",
       "      <th>Team Year</th>\n",
       "      <th>Team Wins</th>\n",
       "    </tr>\n",
       "  </thead>\n",
       "  <tbody>\n",
       "    <tr>\n",
       "      <th>0</th>\n",
       "      <td>Boston Bruins</td>\n",
       "      <td>1990</td>\n",
       "      <td>44</td>\n",
       "    </tr>\n",
       "    <tr>\n",
       "      <th>1</th>\n",
       "      <td>Buffalo Sabres</td>\n",
       "      <td>1990</td>\n",
       "      <td>31</td>\n",
       "    </tr>\n",
       "    <tr>\n",
       "      <th>2</th>\n",
       "      <td>Calgary Flames</td>\n",
       "      <td>1990</td>\n",
       "      <td>46</td>\n",
       "    </tr>\n",
       "    <tr>\n",
       "      <th>3</th>\n",
       "      <td>Chicago Blackhawks</td>\n",
       "      <td>1990</td>\n",
       "      <td>49</td>\n",
       "    </tr>\n",
       "    <tr>\n",
       "      <th>4</th>\n",
       "      <td>Detroit Red Wings</td>\n",
       "      <td>1990</td>\n",
       "      <td>34</td>\n",
       "    </tr>\n",
       "    <tr>\n",
       "      <th>5</th>\n",
       "      <td>Edmonton Oilers</td>\n",
       "      <td>1990</td>\n",
       "      <td>37</td>\n",
       "    </tr>\n",
       "    <tr>\n",
       "      <th>6</th>\n",
       "      <td>Hartford Whalers</td>\n",
       "      <td>1990</td>\n",
       "      <td>31</td>\n",
       "    </tr>\n",
       "    <tr>\n",
       "      <th>7</th>\n",
       "      <td>Los Angeles Kings</td>\n",
       "      <td>1990</td>\n",
       "      <td>46</td>\n",
       "    </tr>\n",
       "    <tr>\n",
       "      <th>8</th>\n",
       "      <td>Minnesota North Stars</td>\n",
       "      <td>1990</td>\n",
       "      <td>27</td>\n",
       "    </tr>\n",
       "    <tr>\n",
       "      <th>9</th>\n",
       "      <td>Montreal Canadiens</td>\n",
       "      <td>1990</td>\n",
       "      <td>39</td>\n",
       "    </tr>\n",
       "    <tr>\n",
       "      <th>10</th>\n",
       "      <td>New Jersey Devils</td>\n",
       "      <td>1990</td>\n",
       "      <td>32</td>\n",
       "    </tr>\n",
       "    <tr>\n",
       "      <th>11</th>\n",
       "      <td>New York Islanders</td>\n",
       "      <td>1990</td>\n",
       "      <td>25</td>\n",
       "    </tr>\n",
       "    <tr>\n",
       "      <th>12</th>\n",
       "      <td>New York Rangers</td>\n",
       "      <td>1990</td>\n",
       "      <td>36</td>\n",
       "    </tr>\n",
       "    <tr>\n",
       "      <th>13</th>\n",
       "      <td>Philadelphia Flyers</td>\n",
       "      <td>1990</td>\n",
       "      <td>33</td>\n",
       "    </tr>\n",
       "    <tr>\n",
       "      <th>14</th>\n",
       "      <td>Pittsburgh Penguins</td>\n",
       "      <td>1990</td>\n",
       "      <td>41</td>\n",
       "    </tr>\n",
       "    <tr>\n",
       "      <th>15</th>\n",
       "      <td>Quebec Nordiques</td>\n",
       "      <td>1990</td>\n",
       "      <td>16</td>\n",
       "    </tr>\n",
       "    <tr>\n",
       "      <th>16</th>\n",
       "      <td>St. Louis Blues</td>\n",
       "      <td>1990</td>\n",
       "      <td>47</td>\n",
       "    </tr>\n",
       "    <tr>\n",
       "      <th>17</th>\n",
       "      <td>Toronto Maple Leafs</td>\n",
       "      <td>1990</td>\n",
       "      <td>23</td>\n",
       "    </tr>\n",
       "    <tr>\n",
       "      <th>18</th>\n",
       "      <td>Vancouver Canucks</td>\n",
       "      <td>1990</td>\n",
       "      <td>28</td>\n",
       "    </tr>\n",
       "    <tr>\n",
       "      <th>19</th>\n",
       "      <td>Washington Capitals</td>\n",
       "      <td>1990</td>\n",
       "      <td>37</td>\n",
       "    </tr>\n",
       "    <tr>\n",
       "      <th>20</th>\n",
       "      <td>Winnipeg Jets</td>\n",
       "      <td>1990</td>\n",
       "      <td>26</td>\n",
       "    </tr>\n",
       "    <tr>\n",
       "      <th>21</th>\n",
       "      <td>Boston Bruins</td>\n",
       "      <td>1991</td>\n",
       "      <td>36</td>\n",
       "    </tr>\n",
       "    <tr>\n",
       "      <th>22</th>\n",
       "      <td>Buffalo Sabres</td>\n",
       "      <td>1991</td>\n",
       "      <td>31</td>\n",
       "    </tr>\n",
       "    <tr>\n",
       "      <th>23</th>\n",
       "      <td>Calgary Flames</td>\n",
       "      <td>1991</td>\n",
       "      <td>31</td>\n",
       "    </tr>\n",
       "    <tr>\n",
       "      <th>24</th>\n",
       "      <td>Chicago Blackhawks</td>\n",
       "      <td>1991</td>\n",
       "      <td>36</td>\n",
       "    </tr>\n",
       "  </tbody>\n",
       "</table>\n",
       "</div>"
      ],
      "text/plain": [
       "                Team Name Team Year Team Wins\n",
       "0           Boston Bruins      1990        44\n",
       "1          Buffalo Sabres      1990        31\n",
       "2          Calgary Flames      1990        46\n",
       "3      Chicago Blackhawks      1990        49\n",
       "4       Detroit Red Wings      1990        34\n",
       "5         Edmonton Oilers      1990        37\n",
       "6        Hartford Whalers      1990        31\n",
       "7       Los Angeles Kings      1990        46\n",
       "8   Minnesota North Stars      1990        27\n",
       "9      Montreal Canadiens      1990        39\n",
       "10      New Jersey Devils      1990        32\n",
       "11     New York Islanders      1990        25\n",
       "12       New York Rangers      1990        36\n",
       "13    Philadelphia Flyers      1990        33\n",
       "14    Pittsburgh Penguins      1990        41\n",
       "15       Quebec Nordiques      1990        16\n",
       "16        St. Louis Blues      1990        47\n",
       "17    Toronto Maple Leafs      1990        23\n",
       "18      Vancouver Canucks      1990        28\n",
       "19    Washington Capitals      1990        37\n",
       "20          Winnipeg Jets      1990        26\n",
       "21          Boston Bruins      1991        36\n",
       "22         Buffalo Sabres      1991        31\n",
       "23         Calgary Flames      1991        31\n",
       "24     Chicago Blackhawks      1991        36"
      ]
     },
     "execution_count": 50,
     "metadata": {},
     "output_type": "execute_result"
    }
   ],
   "source": [
    "df"
   ]
  },
  {
   "cell_type": "code",
   "execution_count": null,
   "metadata": {},
   "outputs": [],
   "source": []
  },
  {
   "cell_type": "code",
   "execution_count": null,
   "metadata": {},
   "outputs": [],
   "source": []
  },
  {
   "cell_type": "code",
   "execution_count": null,
   "metadata": {},
   "outputs": [],
   "source": []
  },
  {
   "cell_type": "code",
   "execution_count": null,
   "metadata": {},
   "outputs": [],
   "source": []
  },
  {
   "cell_type": "code",
   "execution_count": null,
   "metadata": {},
   "outputs": [],
   "source": []
  },
  {
   "cell_type": "code",
   "execution_count": null,
   "metadata": {},
   "outputs": [],
   "source": []
  },
  {
   "cell_type": "code",
   "execution_count": null,
   "metadata": {},
   "outputs": [],
   "source": [
    "data1_CBS[data1_CBS['Year'].str.match('19[89].')]"
   ]
  },
  {
   "cell_type": "code",
   "execution_count": 51,
   "metadata": {},
   "outputs": [],
   "source": [
    "import matplotlib.pyplot as plt"
   ]
  },
  {
   "cell_type": "code",
   "execution_count": 70,
   "metadata": {},
   "outputs": [
    {
     "ename": "TypeError",
     "evalue": "list indices must be integers or slices, not str",
     "output_type": "error",
     "traceback": [
      "\u001b[0;31m---------------------------------------------------------------------------\u001b[0m",
      "\u001b[0;31mTypeError\u001b[0m                                 Traceback (most recent call last)",
      "Cell \u001b[0;32mIn[70], line 1\u001b[0m\n\u001b[0;32m----> 1\u001b[0m plt\u001b[38;5;241m.\u001b[39mhist(teams[\u001b[43mteams\u001b[49m\u001b[43m[\u001b[49m\u001b[38;5;124;43m'\u001b[39;49m\u001b[38;5;124;43mteam_year\u001b[39;49m\u001b[38;5;124;43m'\u001b[39;49m\u001b[43m]\u001b[49m\u001b[38;5;241m.\u001b[39mstr\u001b[38;5;241m.\u001b[39mmatch(\u001b[38;5;124m'\u001b[39m\u001b[38;5;124m1990\u001b[39m\u001b[38;5;124m'\u001b[39m)])\n\u001b[1;32m      2\u001b[0m plt\u001b[38;5;241m.\u001b[39mshow()\n",
      "\u001b[0;31mTypeError\u001b[0m: list indices must be integers or slices, not str"
     ]
    }
   ],
   "source": [
    "plt.hist(teams[teams['team_year'].str.match('1990')])\n",
    "plt.show()"
   ]
  },
  {
   "cell_type": "code",
   "execution_count": 67,
   "metadata": {},
   "outputs": [
    {
     "data": {
      "image/png": "[encoded data removed]",
      "text/plain": [
       "<Figure size 1000x600 with 1 Axes>"
      ]
     },
     "metadata": {},
     "output_type": "display_data"
    }
   ],
   "source": [
    "data_1990 = [];\n",
    "for game in teams:\n",
    "  if game[\"Team Year\"] == '1990':\n",
    "    data_1990.append(game)\n",
    "\n",
    "wins_1990 = []\n",
    "losses_1990 = []\n",
    "\n",
    "for game in data_1990:\n",
    "    wins_1990.append(int(game[\"Team Wins\"]))\n",
    "    losses_1990.append(int(game[\"Team Losses\"]))\n",
    "    \n",
    "plt.figure(figsize=(10, 6))\n",
    "plt.hist(wins_1990, bins=10, color='blue', alpha=0.7, label='Wins')\n",
    "plt.hist(losses_1990, bins=10, color='red', alpha=0.7, label='Losses')\n",
    "plt.title('Distribution of Wins and Losses in 1990')\n",
    "plt.xlabel('Number of Games')\n",
    "plt.ylabel('Frequency')\n",
    "plt.legend()\n",
    "plt.show()"
   ]
  },
  {
   "cell_type": "code",
   "execution_count": null,
   "metadata": {},
   "outputs": [],
   "source": []
  },
  {
   "cell_type": "code",
   "execution_count": null,
   "metadata": {},
   "outputs": [],
   "source": []
  },
  {
   "cell_type": "code",
   "execution_count": null,
   "metadata": {},
   "outputs": [],
   "source": []
  },
  {
   "cell_type": "markdown",
   "metadata": {
    "id": "oCkjUHg75fNe"
   },
   "source": [
    "# Laboratory Exercise - Bonus Task (+ 2 points)"
   ]
  },
  {
   "cell_type": "markdown",
   "metadata": {
    "id": "t1qEBqeW8UJa"
   },
   "source": [
    "In the context of scraping the website https://www.scrapethissite.com/pages/forms/, the additional task involves searching for the hockey team 'Boston Bruins' using the available search field. You will extract the wins and losses data for this team covering the years from 1990 to 2011. After gathering this information, your task is to create a line plot where the wins and losses of the 'Boston Bruins' team are visualized across the years, displaying both trends on the same plot."
   ]
  },
  {
   "cell_type": "markdown",
   "metadata": {
    "id": "DgXk1c4k-5dR"
   },
   "source": [
    "## Hints\n",
    "- To populate an input field (`input_field`) with some `text` use `input_field.send_keys(text)`.\n",
    "- To click on a specific `element` on a web page use `element.click()`."
   ]
  },
  {
   "cell_type": "markdown",
   "metadata": {
    "id": "AXxIi7bv9lPw"
   },
   "source": [
    "## Solution"
   ]
  },
  {
   "cell_type": "code",
   "execution_count": 40,
   "metadata": {
    "id": "ztX3X1pB5f4j"
   },
   "outputs": [],
   "source": [
    "# Write your code here."
   ]
  },
  {
   "cell_type": "code",
   "execution_count": 41,
   "metadata": {
    "id": "U-7KiLUF9hxp"
   },
   "outputs": [],
   "source": [
    "# Add as many code boxes as you need."
   ]
  }
 ],
 "metadata": {
  "colab": {
   "provenance": []
  },
  "kernelspec": {
   "display_name": "Python 3 (ipykernel)",
   "language": "python",
   "name": "python3"
  },
  "language_info": {
   "codemirror_mode": {
    "name": "ipython",
    "version": 3
   },
   "file_extension": ".py",
   "mimetype": "text/x-python",
   "name": "python",
   "nbconvert_exporter": "python",
   "pygments_lexer": "ipython3",
   "version": "3.12.2"
  }
 },
 "nbformat": 4,
 "nbformat_minor": 4
}
